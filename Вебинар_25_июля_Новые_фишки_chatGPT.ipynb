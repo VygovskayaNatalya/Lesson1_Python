{
  "nbformat": 4,
  "nbformat_minor": 0,
  "metadata": {
    "colab": {
      "provenance": [],
      "collapsed_sections": [
        "W-OLOv4-nRiq",
        "2kZOdybOKyq_",
        "ZGbGPSRFN6pQ",
        "3luRMYbSxKrx",
        "wR6Ae72wG1Da",
        "sCUbaYBOJBo_",
        "GQQ1T2J3OtIv",
        "pw_vmHzM-ID_",
        "-kltkR1GaS4r",
        "rfVcbp66m4EP",
        "oSQoYUL8FRHT"
      ],
      "include_colab_link": true
    },
    "kernelspec": {
      "name": "python3",
      "display_name": "Python 3"
    },
    "language_info": {
      "name": "python"
    }
  },
  "cells": [
    {
      "cell_type": "markdown",
      "metadata": {
        "id": "view-in-github",
        "colab_type": "text"
      },
      "source": [
        "<a href=\"https://colab.research.google.com/github/VygovskayaNatalya/Lesson1_Python/blob/main/%D0%92%D0%B5%D0%B1%D0%B8%D0%BD%D0%B0%D1%80_25_%D0%B8%D1%8E%D0%BB%D1%8F_%D0%9D%D0%BE%D0%B2%D1%8B%D0%B5_%D1%84%D0%B8%D1%88%D0%BA%D0%B8_chatGPT.ipynb\" target=\"_parent\"><img src=\"https://colab.research.google.com/assets/colab-badge.svg\" alt=\"Open In Colab\"/></a>"
      ]
    },
    {
      "cell_type": "markdown",
      "source": [
        "## Установка зависимостей"
      ],
      "metadata": {
        "id": "W-OLOv4-nRiq"
      }
    },
    {
      "cell_type": "code",
      "execution_count": null,
      "metadata": {
        "colab": {
          "base_uri": "https://localhost:8080/"
        },
        "id": "GhwXN9qyugtq",
        "outputId": "ba113106-6077-4aee-ec7d-4aa0941e9a73"
      },
      "outputs": [
        {
          "output_type": "stream",
          "name": "stdout",
          "text": [
            "Collecting openai\n",
            "  Downloading openai-0.27.8-py3-none-any.whl (73 kB)\n",
            "\u001b[2K     \u001b[90m━━━━━━━━━━━━━━━━━━━━━━━━━━━━━━━━━━━━━━━\u001b[0m \u001b[32m73.6/73.6 kB\u001b[0m \u001b[31m791.2 kB/s\u001b[0m eta \u001b[36m0:00:00\u001b[0m\n",
            "\u001b[?25hCollecting langchain\n",
            "  Downloading langchain-0.0.240-py3-none-any.whl (1.4 MB)\n",
            "\u001b[2K     \u001b[90m━━━━━━━━━━━━━━━━━━━━━━━━━━━━━━━━━━━━━━━━\u001b[0m \u001b[32m1.4/1.4 MB\u001b[0m \u001b[31m19.8 MB/s\u001b[0m eta \u001b[36m0:00:00\u001b[0m\n",
            "\u001b[?25hCollecting chromadb\n",
            "  Downloading chromadb-0.4.2-py3-none-any.whl (399 kB)\n",
            "\u001b[2K     \u001b[90m━━━━━━━━━━━━━━━━━━━━━━━━━━━━━━━━━━━━━━\u001b[0m \u001b[32m399.3/399.3 kB\u001b[0m \u001b[31m20.5 MB/s\u001b[0m eta \u001b[36m0:00:00\u001b[0m\n",
            "\u001b[?25hCollecting faiss-cpu\n",
            "  Downloading faiss_cpu-1.7.4-cp310-cp310-manylinux_2_17_x86_64.manylinux2014_x86_64.whl (17.6 MB)\n",
            "\u001b[2K     \u001b[90m━━━━━━━━━━━━━━━━━━━━━━━━━━━━━━━━━━━━━━━━\u001b[0m \u001b[32m17.6/17.6 MB\u001b[0m \u001b[31m51.6 MB/s\u001b[0m eta \u001b[36m0:00:00\u001b[0m\n",
            "\u001b[?25hCollecting tiktoken\n",
            "  Downloading tiktoken-0.4.0-cp310-cp310-manylinux_2_17_x86_64.manylinux2014_x86_64.whl (1.7 MB)\n",
            "\u001b[2K     \u001b[90m━━━━━━━━━━━━━━━━━━━━━━━━━━━━━━━━━━━━━━━━\u001b[0m \u001b[32m1.7/1.7 MB\u001b[0m \u001b[31m52.6 MB/s\u001b[0m eta \u001b[36m0:00:00\u001b[0m\n",
            "\u001b[?25hCollecting pydantic==1.10.8\n",
            "  Downloading pydantic-1.10.8-cp310-cp310-manylinux_2_17_x86_64.manylinux2014_x86_64.whl (3.1 MB)\n",
            "\u001b[2K     \u001b[90m━━━━━━━━━━━━━━━━━━━━━━━━━━━━━━━━━━━━━━━━\u001b[0m \u001b[32m3.1/3.1 MB\u001b[0m \u001b[31m31.8 MB/s\u001b[0m eta \u001b[36m0:00:00\u001b[0m\n",
            "\u001b[?25hRequirement already satisfied: typing-extensions>=4.2.0 in /usr/local/lib/python3.10/dist-packages (from pydantic==1.10.8) (4.7.1)\n",
            "Requirement already satisfied: requests>=2.20 in /usr/local/lib/python3.10/dist-packages (from openai) (2.27.1)\n",
            "Requirement already satisfied: tqdm in /usr/local/lib/python3.10/dist-packages (from openai) (4.65.0)\n",
            "Requirement already satisfied: aiohttp in /usr/local/lib/python3.10/dist-packages (from openai) (3.8.4)\n",
            "Requirement already satisfied: PyYAML>=5.4.1 in /usr/local/lib/python3.10/dist-packages (from langchain) (6.0.1)\n",
            "Requirement already satisfied: SQLAlchemy<3,>=1.4 in /usr/local/lib/python3.10/dist-packages (from langchain) (2.0.19)\n",
            "Requirement already satisfied: async-timeout<5.0.0,>=4.0.0 in /usr/local/lib/python3.10/dist-packages (from langchain) (4.0.2)\n",
            "Collecting dataclasses-json<0.6.0,>=0.5.7 (from langchain)\n",
            "  Downloading dataclasses_json-0.5.13-py3-none-any.whl (26 kB)\n",
            "Collecting langsmith<0.1.0,>=0.0.11 (from langchain)\n",
            "  Downloading langsmith-0.0.14-py3-none-any.whl (29 kB)\n",
            "Requirement already satisfied: numexpr<3.0.0,>=2.8.4 in /usr/local/lib/python3.10/dist-packages (from langchain) (2.8.4)\n",
            "Requirement already satisfied: numpy<2,>=1 in /usr/local/lib/python3.10/dist-packages (from langchain) (1.22.4)\n",
            "Collecting openapi-schema-pydantic<2.0,>=1.2 (from langchain)\n",
            "  Downloading openapi_schema_pydantic-1.2.4-py3-none-any.whl (90 kB)\n",
            "\u001b[2K     \u001b[90m━━━━━━━━━━━━━━━━━━━━━━━━━━━━━━━━━━━━━━━━\u001b[0m \u001b[32m90.0/90.0 kB\u001b[0m \u001b[31m5.6 MB/s\u001b[0m eta \u001b[36m0:00:00\u001b[0m\n",
            "\u001b[?25hRequirement already satisfied: tenacity<9.0.0,>=8.1.0 in /usr/local/lib/python3.10/dist-packages (from langchain) (8.2.2)\n",
            "Requirement already satisfied: pandas>=1.3 in /usr/local/lib/python3.10/dist-packages (from chromadb) (1.5.3)\n",
            "Collecting requests>=2.20 (from openai)\n",
            "  Downloading requests-2.31.0-py3-none-any.whl (62 kB)\n",
            "\u001b[2K     \u001b[90m━━━━━━━━━━━━━━━━━━━━━━━━━━━━━━━━━━━━━━━━\u001b[0m \u001b[32m62.6/62.6 kB\u001b[0m \u001b[31m3.8 MB/s\u001b[0m eta \u001b[36m0:00:00\u001b[0m\n",
            "\u001b[?25hCollecting chroma-hnswlib==0.7.1 (from chromadb)\n",
            "  Downloading chroma-hnswlib-0.7.1.tar.gz (30 kB)\n",
            "  Installing build dependencies ... \u001b[?25l\u001b[?25hdone\n",
            "  Getting requirements to build wheel ... \u001b[?25l\u001b[?25hdone\n",
            "  Preparing metadata (pyproject.toml) ... \u001b[?25l\u001b[?25hdone\n",
            "Collecting fastapi<0.100.0,>=0.95.2 (from chromadb)\n",
            "  Downloading fastapi-0.99.1-py3-none-any.whl (58 kB)\n",
            "\u001b[2K     \u001b[90m━━━━━━━━━━━━━━━━━━━━━━━━━━━━━━━━━━━━━━━\u001b[0m \u001b[32m58.4/58.4 kB\u001b[0m \u001b[31m339.8 kB/s\u001b[0m eta \u001b[36m0:00:00\u001b[0m\n",
            "\u001b[?25hCollecting uvicorn[standard]>=0.18.3 (from chromadb)\n",
            "  Downloading uvicorn-0.23.1-py3-none-any.whl (59 kB)\n",
            "\u001b[2K     \u001b[90m━━━━━━━━━━━━━━━━━━━━━━━━━━━━━━━━━━━━━━━━\u001b[0m \u001b[32m59.5/59.5 kB\u001b[0m \u001b[31m6.2 MB/s\u001b[0m eta \u001b[36m0:00:00\u001b[0m\n",
            "\u001b[?25hCollecting posthog>=2.4.0 (from chromadb)\n",
            "  Downloading posthog-3.0.1-py2.py3-none-any.whl (37 kB)\n",
            "Collecting pulsar-client>=3.1.0 (from chromadb)\n",
            "  Downloading pulsar_client-3.2.0-cp310-cp310-manylinux_2_17_x86_64.manylinux2014_x86_64.whl (5.3 MB)\n",
            "\u001b[2K     \u001b[90m━━━━━━━━━━━━━━━━━━━━━━━━━━━━━━━━━━━━━━━━\u001b[0m \u001b[32m5.3/5.3 MB\u001b[0m \u001b[31m83.5 MB/s\u001b[0m eta \u001b[36m0:00:00\u001b[0m\n",
            "\u001b[?25hCollecting onnxruntime>=1.14.1 (from chromadb)\n",
            "  Downloading onnxruntime-1.15.1-cp310-cp310-manylinux_2_17_x86_64.manylinux2014_x86_64.whl (5.9 MB)\n",
            "\u001b[2K     \u001b[90m━━━━━━━━━━━━━━━━━━━━━━━━━━━━━━━━━━━━━━━━\u001b[0m \u001b[32m5.9/5.9 MB\u001b[0m \u001b[31m80.8 MB/s\u001b[0m eta \u001b[36m0:00:00\u001b[0m\n",
            "\u001b[?25hCollecting tokenizers>=0.13.2 (from chromadb)\n",
            "  Downloading tokenizers-0.13.3-cp310-cp310-manylinux_2_17_x86_64.manylinux2014_x86_64.whl (7.8 MB)\n",
            "\u001b[2K     \u001b[90m━━━━━━━━━━━━━━━━━━━━━━━━━━━━━━━━━━━━━━━━\u001b[0m \u001b[32m7.8/7.8 MB\u001b[0m \u001b[31m105.3 MB/s\u001b[0m eta \u001b[36m0:00:00\u001b[0m\n",
            "\u001b[?25hCollecting pypika>=0.48.9 (from chromadb)\n",
            "  Downloading PyPika-0.48.9.tar.gz (67 kB)\n",
            "\u001b[2K     \u001b[90m━━━━━━━━━━━━━━━━━━━━━━━━━━━━━━━━━━━━━━━━\u001b[0m \u001b[32m67.3/67.3 kB\u001b[0m \u001b[31m7.7 MB/s\u001b[0m eta \u001b[36m0:00:00\u001b[0m\n",
            "\u001b[?25h  Installing build dependencies ... \u001b[?25l\u001b[?25hdone\n",
            "  Getting requirements to build wheel ... \u001b[?25l\u001b[?25hdone\n",
            "  Preparing metadata (pyproject.toml) ... \u001b[?25l\u001b[?25hdone\n",
            "Collecting overrides>=7.3.1 (from chromadb)\n",
            "  Downloading overrides-7.3.1-py3-none-any.whl (17 kB)\n",
            "Requirement already satisfied: importlib-resources in /usr/local/lib/python3.10/dist-packages (from chromadb) (6.0.0)\n",
            "Requirement already satisfied: regex>=2022.1.18 in /usr/local/lib/python3.10/dist-packages (from tiktoken) (2022.10.31)\n",
            "Requirement already satisfied: attrs>=17.3.0 in /usr/local/lib/python3.10/dist-packages (from aiohttp->openai) (23.1.0)\n",
            "Requirement already satisfied: charset-normalizer<4.0,>=2.0 in /usr/local/lib/python3.10/dist-packages (from aiohttp->openai) (2.0.12)\n",
            "Requirement already satisfied: multidict<7.0,>=4.5 in /usr/local/lib/python3.10/dist-packages (from aiohttp->openai) (6.0.4)\n",
            "Requirement already satisfied: yarl<2.0,>=1.0 in /usr/local/lib/python3.10/dist-packages (from aiohttp->openai) (1.9.2)\n",
            "Requirement already satisfied: frozenlist>=1.1.1 in /usr/local/lib/python3.10/dist-packages (from aiohttp->openai) (1.4.0)\n",
            "Requirement already satisfied: aiosignal>=1.1.2 in /usr/local/lib/python3.10/dist-packages (from aiohttp->openai) (1.3.1)\n",
            "Collecting marshmallow<4.0.0,>=3.18.0 (from dataclasses-json<0.6.0,>=0.5.7->langchain)\n",
            "  Downloading marshmallow-3.20.1-py3-none-any.whl (49 kB)\n",
            "\u001b[2K     \u001b[90m━━━━━━━━━━━━━━━━━━━━━━━━━━━━━━━━━━━━━━━━\u001b[0m \u001b[32m49.4/49.4 kB\u001b[0m \u001b[31m4.6 MB/s\u001b[0m eta \u001b[36m0:00:00\u001b[0m\n",
            "\u001b[?25hCollecting typing-inspect<1,>=0.4.0 (from dataclasses-json<0.6.0,>=0.5.7->langchain)\n",
            "  Downloading typing_inspect-0.9.0-py3-none-any.whl (8.8 kB)\n",
            "Collecting starlette<0.28.0,>=0.27.0 (from fastapi<0.100.0,>=0.95.2->chromadb)\n",
            "  Downloading starlette-0.27.0-py3-none-any.whl (66 kB)\n",
            "\u001b[2K     \u001b[90m━━━━━━━━━━━━━━━━━━━━━━━━━━━━━━━━━━━━━━━━\u001b[0m \u001b[32m67.0/67.0 kB\u001b[0m \u001b[31m5.5 MB/s\u001b[0m eta \u001b[36m0:00:00\u001b[0m\n",
            "\u001b[?25hCollecting coloredlogs (from onnxruntime>=1.14.1->chromadb)\n",
            "  Downloading coloredlogs-15.0.1-py2.py3-none-any.whl (46 kB)\n",
            "\u001b[2K     \u001b[90m━━━━━━━━━━━━━━━━━━━━━━━━━━━━━━━━━━━━━━━━\u001b[0m \u001b[32m46.0/46.0 kB\u001b[0m \u001b[31m4.3 MB/s\u001b[0m eta \u001b[36m0:00:00\u001b[0m\n",
            "\u001b[?25hRequirement already satisfied: flatbuffers in /usr/local/lib/python3.10/dist-packages (from onnxruntime>=1.14.1->chromadb) (23.5.26)\n",
            "Requirement already satisfied: packaging in /usr/local/lib/python3.10/dist-packages (from onnxruntime>=1.14.1->chromadb) (23.1)\n",
            "Requirement already satisfied: protobuf in /usr/local/lib/python3.10/dist-packages (from onnxruntime>=1.14.1->chromadb) (3.20.3)\n",
            "Requirement already satisfied: sympy in /usr/local/lib/python3.10/dist-packages (from onnxruntime>=1.14.1->chromadb) (1.11.1)\n",
            "Requirement already satisfied: python-dateutil>=2.8.1 in /usr/local/lib/python3.10/dist-packages (from pandas>=1.3->chromadb) (2.8.2)\n",
            "Requirement already satisfied: pytz>=2020.1 in /usr/local/lib/python3.10/dist-packages (from pandas>=1.3->chromadb) (2022.7.1)\n",
            "Requirement already satisfied: six>=1.5 in /usr/local/lib/python3.10/dist-packages (from posthog>=2.4.0->chromadb) (1.16.0)\n",
            "Collecting monotonic>=1.5 (from posthog>=2.4.0->chromadb)\n",
            "  Downloading monotonic-1.6-py2.py3-none-any.whl (8.2 kB)\n",
            "Collecting backoff>=1.10.0 (from posthog>=2.4.0->chromadb)\n",
            "  Downloading backoff-2.2.1-py3-none-any.whl (15 kB)\n",
            "Requirement already satisfied: certifi in /usr/local/lib/python3.10/dist-packages (from pulsar-client>=3.1.0->chromadb) (2023.5.7)\n",
            "Requirement already satisfied: idna<4,>=2.5 in /usr/local/lib/python3.10/dist-packages (from requests>=2.20->openai) (3.4)\n",
            "Requirement already satisfied: urllib3<3,>=1.21.1 in /usr/local/lib/python3.10/dist-packages (from requests>=2.20->openai) (1.26.16)\n",
            "Requirement already satisfied: greenlet!=0.4.17 in /usr/local/lib/python3.10/dist-packages (from SQLAlchemy<3,>=1.4->langchain) (2.0.2)\n",
            "Requirement already satisfied: click>=7.0 in /usr/local/lib/python3.10/dist-packages (from uvicorn[standard]>=0.18.3->chromadb) (8.1.6)\n",
            "Collecting h11>=0.8 (from uvicorn[standard]>=0.18.3->chromadb)\n",
            "  Downloading h11-0.14.0-py3-none-any.whl (58 kB)\n",
            "\u001b[2K     \u001b[90m━━━━━━━━━━━━━━━━━━━━━━━━━━━━━━━━━━━━━━━━\u001b[0m \u001b[32m58.3/58.3 kB\u001b[0m \u001b[31m5.3 MB/s\u001b[0m eta \u001b[36m0:00:00\u001b[0m\n",
            "\u001b[?25hCollecting httptools>=0.5.0 (from uvicorn[standard]>=0.18.3->chromadb)\n",
            "  Downloading httptools-0.6.0-cp310-cp310-manylinux_2_5_x86_64.manylinux1_x86_64.manylinux_2_17_x86_64.manylinux2014_x86_64.whl (428 kB)\n",
            "\u001b[2K     \u001b[90m━━━━━━━━━━━━━━━━━━━━━━━━━━━━━━━━━━━━━━\u001b[0m \u001b[32m428.8/428.8 kB\u001b[0m \u001b[31m36.0 MB/s\u001b[0m eta \u001b[36m0:00:00\u001b[0m\n",
            "\u001b[?25hCollecting python-dotenv>=0.13 (from uvicorn[standard]>=0.18.3->chromadb)\n",
            "  Downloading python_dotenv-1.0.0-py3-none-any.whl (19 kB)\n",
            "Collecting uvloop!=0.15.0,!=0.15.1,>=0.14.0 (from uvicorn[standard]>=0.18.3->chromadb)\n",
            "  Downloading uvloop-0.17.0-cp310-cp310-manylinux_2_17_x86_64.manylinux2014_x86_64.whl (4.1 MB)\n",
            "\u001b[2K     \u001b[90m━━━━━━━━━━━━━━━━━━━━━━━━━━━━━━━━━━━━━━━━\u001b[0m \u001b[32m4.1/4.1 MB\u001b[0m \u001b[31m100.2 MB/s\u001b[0m eta \u001b[36m0:00:00\u001b[0m\n",
            "\u001b[?25hCollecting watchfiles>=0.13 (from uvicorn[standard]>=0.18.3->chromadb)\n",
            "  Downloading watchfiles-0.19.0-cp37-abi3-manylinux_2_17_x86_64.manylinux2014_x86_64.whl (1.3 MB)\n",
            "\u001b[2K     \u001b[90m━━━━━━━━━━━━━━━━━━━━━━━━━━━━━━━━━━━━━━━━\u001b[0m \u001b[32m1.3/1.3 MB\u001b[0m \u001b[31m69.4 MB/s\u001b[0m eta \u001b[36m0:00:00\u001b[0m\n",
            "\u001b[?25hCollecting websockets>=10.4 (from uvicorn[standard]>=0.18.3->chromadb)\n",
            "  Downloading websockets-11.0.3-cp310-cp310-manylinux_2_5_x86_64.manylinux1_x86_64.manylinux_2_17_x86_64.manylinux2014_x86_64.whl (129 kB)\n",
            "\u001b[2K     \u001b[90m━━━━━━━━━━━━━━━━━━━━━━━━━━━━━━━━━━━━━━\u001b[0m \u001b[32m129.9/129.9 kB\u001b[0m \u001b[31m12.8 MB/s\u001b[0m eta \u001b[36m0:00:00\u001b[0m\n",
            "\u001b[?25hRequirement already satisfied: anyio<5,>=3.4.0 in /usr/local/lib/python3.10/dist-packages (from starlette<0.28.0,>=0.27.0->fastapi<0.100.0,>=0.95.2->chromadb) (3.7.1)\n",
            "Collecting mypy-extensions>=0.3.0 (from typing-inspect<1,>=0.4.0->dataclasses-json<0.6.0,>=0.5.7->langchain)\n",
            "  Downloading mypy_extensions-1.0.0-py3-none-any.whl (4.7 kB)\n",
            "Collecting humanfriendly>=9.1 (from coloredlogs->onnxruntime>=1.14.1->chromadb)\n",
            "  Downloading humanfriendly-10.0-py2.py3-none-any.whl (86 kB)\n",
            "\u001b[2K     \u001b[90m━━━━━━━━━━━━━━━━━━━━━━━━━━━━━━━━━━━━━━━━\u001b[0m \u001b[32m86.8/86.8 kB\u001b[0m \u001b[31m9.6 MB/s\u001b[0m eta \u001b[36m0:00:00\u001b[0m\n",
            "\u001b[?25hRequirement already satisfied: mpmath>=0.19 in /usr/local/lib/python3.10/dist-packages (from sympy->onnxruntime>=1.14.1->chromadb) (1.3.0)\n",
            "Requirement already satisfied: sniffio>=1.1 in /usr/local/lib/python3.10/dist-packages (from anyio<5,>=3.4.0->starlette<0.28.0,>=0.27.0->fastapi<0.100.0,>=0.95.2->chromadb) (1.3.0)\n",
            "Requirement already satisfied: exceptiongroup in /usr/local/lib/python3.10/dist-packages (from anyio<5,>=3.4.0->starlette<0.28.0,>=0.27.0->fastapi<0.100.0,>=0.95.2->chromadb) (1.1.2)\n",
            "Building wheels for collected packages: chroma-hnswlib, pypika\n",
            "  Building wheel for chroma-hnswlib (pyproject.toml) ... \u001b[?25l\u001b[?25hdone\n",
            "  Created wheel for chroma-hnswlib: filename=chroma_hnswlib-0.7.1-cp310-cp310-linux_x86_64.whl size=2273161 sha256=c28f9c7fa15db006192eb86a3f4d723812ffb3bc54bc7b7ca716a86331997d6e\n",
            "  Stored in directory: /root/.cache/pip/wheels/ad/f2/d2/3f32228e9f4713a9f32a468de8bbc3c642f7805ebef888418b\n",
            "  Building wheel for pypika (pyproject.toml) ... \u001b[?25l\u001b[?25hdone\n",
            "  Created wheel for pypika: filename=PyPika-0.48.9-py2.py3-none-any.whl size=53723 sha256=a8a16842b45a5672b42f388a1e3f100babbb01162e90c7c467e9f42ff71c3d69\n",
            "  Stored in directory: /root/.cache/pip/wheels/e1/26/51/d0bffb3d2fd82256676d7ad3003faea3bd6dddc9577af665f4\n",
            "Successfully built chroma-hnswlib pypika\n",
            "Installing collected packages: tokenizers, pypika, monotonic, faiss-cpu, websockets, uvloop, requests, python-dotenv, pydantic, pulsar-client, overrides, mypy-extensions, marshmallow, humanfriendly, httptools, h11, chroma-hnswlib, backoff, watchfiles, uvicorn, typing-inspect, tiktoken, starlette, posthog, openapi-schema-pydantic, langsmith, coloredlogs, openai, onnxruntime, fastapi, dataclasses-json, langchain, chromadb\n",
            "  Attempting uninstall: requests\n",
            "    Found existing installation: requests 2.27.1\n",
            "    Uninstalling requests-2.27.1:\n",
            "      Successfully uninstalled requests-2.27.1\n",
            "  Attempting uninstall: pydantic\n",
            "    Found existing installation: pydantic 1.10.11\n",
            "    Uninstalling pydantic-1.10.11:\n",
            "      Successfully uninstalled pydantic-1.10.11\n",
            "\u001b[31mERROR: pip's dependency resolver does not currently take into account all the packages that are installed. This behaviour is the source of the following dependency conflicts.\n",
            "google-colab 1.0.0 requires requests==2.27.1, but you have requests 2.31.0 which is incompatible.\u001b[0m\u001b[31m\n",
            "\u001b[0mSuccessfully installed backoff-2.2.1 chroma-hnswlib-0.7.1 chromadb-0.4.2 coloredlogs-15.0.1 dataclasses-json-0.5.13 faiss-cpu-1.7.4 fastapi-0.99.1 h11-0.14.0 httptools-0.6.0 humanfriendly-10.0 langchain-0.0.240 langsmith-0.0.14 marshmallow-3.20.1 monotonic-1.6 mypy-extensions-1.0.0 onnxruntime-1.15.1 openai-0.27.8 openapi-schema-pydantic-1.2.4 overrides-7.3.1 posthog-3.0.1 pulsar-client-3.2.0 pydantic-1.10.8 pypika-0.48.9 python-dotenv-1.0.0 requests-2.31.0 starlette-0.27.0 tiktoken-0.4.0 tokenizers-0.13.3 typing-inspect-0.9.0 uvicorn-0.23.1 uvloop-0.17.0 watchfiles-0.19.0 websockets-11.0.3\n"
          ]
        }
      ],
      "source": [
        "!pip install openai langchain chromadb faiss-cpu tiktoken pydantic==1.10.8"
      ]
    },
    {
      "cell_type": "markdown",
      "source": [
        "## Авторизация в OpenAI"
      ],
      "metadata": {
        "id": "zafHoZfsncWK"
      }
    },
    {
      "cell_type": "code",
      "source": [
        "#@title Введите OpenAI токен\n",
        "import os\n",
        "import getpass\n",
        "\n",
        "os.environ[\"OPENAI_API_KEY\"] = getpass.getpass(\"OpenAI API Key:\")"
      ],
      "metadata": {
        "colab": {
          "base_uri": "https://localhost:8080/"
        },
        "cellView": "form",
        "id": "vu4WW10-u3_U",
        "outputId": "70a67fba-e898-4298-edd2-d61ca1526389"
      },
      "execution_count": null,
      "outputs": [
        {
          "name": "stdout",
          "output_type": "stream",
          "text": [
            "OpenAI API Key:··········\n"
          ]
        }
      ]
    },
    {
      "cell_type": "markdown",
      "source": [
        "## 1. Динамический выбор из нескольких приглашений (промтов)\n",
        "\n",
        "Создание цепочки, которая динамически выбирает подсказку для использования при заданном вводе. В частности, мы покажем, как использовать MultiPromptChain для создания цепочки вопросов-ответов, которая выбирает приглашение, наиболее релевантное для данного вопроса, а затем отвечает на вопрос, используя это приглашение.\n",
        "https://python.langchain.com/docs/modules/chains/additional/multi_prompt_router"
      ],
      "metadata": {
        "id": "2kZOdybOKyq_"
      }
    },
    {
      "cell_type": "code",
      "source": [
        "# @title Сервисные функции\n",
        "from langchain.chains.router import MultiPromptChain\n",
        "from langchain.chat_models import ChatOpenAI\n",
        "\n",
        "# Отключение трасировки предупреждающих сообщений при выполнении кода\n",
        "os.environ[\"LANGCHAIN_TRACING\"] = \"false\""
      ],
      "metadata": {
        "id": "j6h_u8LtK7fB",
        "cellView": "form"
      },
      "execution_count": null,
      "outputs": []
    },
    {
      "cell_type": "code",
      "source": [
        "# Подготавливаем темплейты из которых будет осуществлен выбор по описанию для наших задач\n",
        "\n",
        "physics_template = \"\"\"Вы очень умный профессор физики. \\\n",
        "У вас отлично получается отвечать на вопросы по физике в краткой и понятной форме. \\\n",
        "Когда вы не знаете ответа на вопрос, вы признаете, что не знаете.\n",
        "\n",
        "Вот такой вопрос:\n",
        "{input}\"\"\"\n",
        "\n",
        "\n",
        "math_template = \"\"\"Вы очень хороший математик. Ты отлично отвечаешь на математические вопросы. \\\n",
        "Вы так хороши, потому что умеете разбивать сложные проблемы на составные части,\n",
        "отвечать на составные части, а затем сводить их воедино, чтобы ответить на более широкий вопрос.\n",
        "\n",
        "Вот такой вопрос:\n",
        "{input}\"\"\""
      ],
      "metadata": {
        "id": "HD01hOeDLm2A"
      },
      "execution_count": null,
      "outputs": []
    },
    {
      "cell_type": "code",
      "source": [
        "# Добавляем информацию и описание для промтов\n",
        "\n",
        "prompt_infos = [\n",
        "    {\n",
        "        \"name\": \"physics\",\n",
        "        \"description\": \"Хорошо подходит для ответов на вопросы по физике\",\n",
        "        \"prompt_template\": physics_template\n",
        "    },\n",
        "    {\n",
        "        \"name\": \"math\",\n",
        "        \"description\": \"Хорошо подходит для ответов на математические вопросы\",\n",
        "        \"prompt_template\": math_template\n",
        "    }\n",
        "]"
      ],
      "metadata": {
        "id": "vUtKteYiLxCk"
      },
      "execution_count": null,
      "outputs": []
    },
    {
      "cell_type": "code",
      "source": [
        "chain = MultiPromptChain.from_prompts(ChatOpenAI(), prompt_infos, verbose=True)"
      ],
      "metadata": {
        "id": "-Xr4YjWNMP3I"
      },
      "execution_count": null,
      "outputs": []
    },
    {
      "cell_type": "code",
      "source": [
        "# Запускаем на вопросе из раздела физики (в промежуточных итогах видим что выбран промт physics)\n",
        "\n",
        "print(chain.run(\"Что такое излучение черного тела?\"))"
      ],
      "metadata": {
        "colab": {
          "base_uri": "https://localhost:8080/"
        },
        "id": "-t_G2VkrMhwG",
        "outputId": "c6091d18-5519-4e9a-9cb8-1e740db10281"
      },
      "execution_count": null,
      "outputs": [
        {
          "output_type": "stream",
          "name": "stdout",
          "text": [
            "\n",
            "\n",
            "\u001b[1m> Entering new MultiPromptChain chain...\u001b[0m\n",
            "physics: {'input': 'Что такое излучение черного тела?'}\n",
            "\u001b[1m> Finished chain.\u001b[0m\n",
            "Излучение черного тела - это электромагнитное излучение, которое испускает абсолютно черное тело, то есть тело, которое поглощает всю падающую на него энергию без отражения или преломления. Излучение черного тела обладает спектром, который зависит только от его температуры и называется \"черным телесным излучением\". Это явление было впервые описано Максом Планком в конце 19 века и стало одной из основ физики квантовых явлений.\n"
          ]
        }
      ]
    },
    {
      "cell_type": "code",
      "source": [
        "# Запускаем на вопросе из раздела математики (в промежуточных итогах видим что выбран промт math)\n",
        "\n",
        "print(chain.run(\"Каково первое простое число, большее 40, такое, что единица плюс простое число делится на 3\"))"
      ],
      "metadata": {
        "colab": {
          "base_uri": "https://localhost:8080/"
        },
        "id": "VK2a9oItMw27",
        "outputId": "db9a8a0d-a4ec-4264-9631-6d7e621abbef"
      },
      "execution_count": null,
      "outputs": [
        {
          "output_type": "stream",
          "name": "stdout",
          "text": [
            "\n",
            "\n",
            "\u001b[1m> Entering new MultiPromptChain chain...\u001b[0m\n",
            "math: {'input': 'Какое первое простое число, большее 40, такое, что сумма единицы и этого числа делится на 3?'}\n",
            "\u001b[1m> Finished chain.\u001b[0m\n",
            "Чтобы решить эту задачу, мы можем перебрать все числа, начиная с 41 и проверять, делится ли сумма единицы и числа на 3.\n",
            "\n",
            "41 + 1 = 42, 42 не делится на 3.\n",
            "43 + 1 = 44, 44 не делится на 3.\n",
            "...\n",
            "47 + 1 = 48, 48 делится на 3.\n",
            "\n",
            "Таким образом, первое простое число, большее 40, такое, что сумма единицы и этого числа делится на 3, это 47.\n"
          ]
        }
      ]
    },
    {
      "cell_type": "markdown",
      "source": [
        "## 2. Динамический выбор из нескольких баз знаний - \"ретриверов\" (векторных хранилищ)\n",
        "Создание цепочки, которая динамически выбирает, какую поисковую систему использовать. В частности, мы покажем, как использовать MultiRetrievalQAChain для создания цепочки вопросов-ответов, которая выбирает цепочку поиска QA (вопрос-ответ), наиболее подходящую для данного вопроса, а затем отвечает на вопрос, используя ее.\n",
        "https://python.langchain.com/docs/modules/chains/additional/multi_retrieval_qa_router"
      ],
      "metadata": {
        "id": "ZGbGPSRFN6pQ"
      }
    },
    {
      "cell_type": "code",
      "source": [
        "# @title Сервисные функции\n",
        "from langchain.chains.router import MultiRetrievalQAChain\n",
        "from langchain.chat_models import ChatOpenAI\n",
        "from langchain.text_splitter import CharacterTextSplitter, RecursiveCharacterTextSplitter\n",
        "from langchain.embeddings import OpenAIEmbeddings\n",
        "from langchain.document_loaders import TextLoader\n",
        "from langchain.vectorstores import FAISS\n",
        "\n",
        "# Отключение трасировки предупреждающих сообщений при выполнении кода\n",
        "os.environ[\"LANGCHAIN_TRACING\"] = \"false\"\n",
        "\n",
        "!wget -O UII_history_120623.txt \"https://getfile.dokpub.com/yandex/get/https://disk.yandex.ru/d/fEwN40_ieKi_0g\"\n",
        "!wget -O UII_learning_120623.txt \"https://getfile.dokpub.com/yandex/get/https://disk.yandex.ru/d/v4sae3Lad4Yn-Q\"\n",
        "\n",
        "text_splitter = RecursiveCharacterTextSplitter(chunk_size=1000, chunk_overlap=0)\n",
        "history_docs = TextLoader('/content/UII_history_120623.txt').load()\n",
        "history_documents = text_splitter.split_documents(history_docs)\n",
        "history_retriever = FAISS.from_documents(history_documents, OpenAIEmbeddings()).as_retriever()\n",
        "\n",
        "learning_docs = TextLoader('/content/UII_learning_120623.txt').load()\n",
        "learning_documents = text_splitter.split_documents(learning_docs)\n",
        "learning_retriever = FAISS.from_documents(learning_documents, OpenAIEmbeddings()).as_retriever()\n",
        "\n",
        "personal_texts = [\n",
        "    \"Я люблю яблочный пирог (шарлотку)\",\n",
        "    \"Мой любимый цвет фуксии\",\n",
        "    \"Моя мечта стать проффесииональным танцором\",\n",
        "    \"Я сломал руку, когда мне было 12\",\n",
        "    \"Мои родители из России\",\n",
        "]\n",
        "personal_retriever = FAISS.from_texts(personal_texts, OpenAIEmbeddings()).as_retriever()"
      ],
      "metadata": {
        "colab": {
          "base_uri": "https://localhost:8080/"
        },
        "id": "BYzJ69liN68n",
        "outputId": "9c3cfa16-e4fb-4670-bf38-39dc821108ef",
        "cellView": "form"
      },
      "execution_count": null,
      "outputs": [
        {
          "output_type": "stream",
          "name": "stdout",
          "text": [
            "--2023-07-21 07:57:33--  https://getfile.dokpub.com/yandex/get/https://disk.yandex.ru/d/fEwN40_ieKi_0g\n",
            "Resolving getfile.dokpub.com (getfile.dokpub.com)... 142.132.255.217\n",
            "Connecting to getfile.dokpub.com (getfile.dokpub.com)|142.132.255.217|:443... connected.\n",
            "HTTP request sent, awaiting response... 302 Found\n",
            "Location: https://downloader.disk.yandex.ru/disk/e2135a0a95e55cf88e46bd6448364463dcdb708cea35830afd8479cc12cf12dc/64ba6f96/YXKs1LhHLMvs3kY2RY3DzVOd8_9KH5qt4SIPOU-iMb--EvumdB2lgJAS_cA89coCMS_fh2SWcFgc-ch_PJspWw%3D%3D?uid=0&filename=%D0%91%D0%B0%D0%B7%D0%B0%20%D0%B7%D0%BD%D0%B0%D0%BD%D0%B8%D0%B9%20%D0%98%D1%81%D1%82%D0%BE%D1%80%D0%B8%D1%8F%20%D0%A3%D0%98%D0%98.%20%D0%92%D0%B5%D1%80%D1%81%D0%B8%D1%8F%20%D0%BE%D1%82%2012.06.23.txt&disposition=attachment&hash=HfYc21gZK49KTl8aP3w%2BXmjNuCRCGb%2BWWOxn0Mf8s2cvq6un4I9JPPLRSlC4oon2q/J6bpmRyOJonT3VoXnDag%3D%3D%3A&limit=0&content_type=text%2Fplain&owner_uid=813875296&fsize=24339&hid=e0062e361f49634846cd15377c42efd2&media_type=document&tknv=v2 [following]\n",
            "--2023-07-21 07:57:33--  https://downloader.disk.yandex.ru/disk/e2135a0a95e55cf88e46bd6448364463dcdb708cea35830afd8479cc12cf12dc/64ba6f96/YXKs1LhHLMvs3kY2RY3DzVOd8_9KH5qt4SIPOU-iMb--EvumdB2lgJAS_cA89coCMS_fh2SWcFgc-ch_PJspWw%3D%3D?uid=0&filename=%D0%91%D0%B0%D0%B7%D0%B0%20%D0%B7%D0%BD%D0%B0%D0%BD%D0%B8%D0%B9%20%D0%98%D1%81%D1%82%D0%BE%D1%80%D0%B8%D1%8F%20%D0%A3%D0%98%D0%98.%20%D0%92%D0%B5%D1%80%D1%81%D0%B8%D1%8F%20%D0%BE%D1%82%2012.06.23.txt&disposition=attachment&hash=HfYc21gZK49KTl8aP3w%2BXmjNuCRCGb%2BWWOxn0Mf8s2cvq6un4I9JPPLRSlC4oon2q/J6bpmRyOJonT3VoXnDag%3D%3D%3A&limit=0&content_type=text%2Fplain&owner_uid=813875296&fsize=24339&hid=e0062e361f49634846cd15377c42efd2&media_type=document&tknv=v2\n",
            "Resolving downloader.disk.yandex.ru (downloader.disk.yandex.ru)... 77.88.21.127, 2a02:6b8::2:127\n",
            "Connecting to downloader.disk.yandex.ru (downloader.disk.yandex.ru)|77.88.21.127|:443... connected.\n",
            "HTTP request sent, awaiting response... 302 Found\n",
            "Location: https://s599sas.storage.yandex.net/rdisk/e2135a0a95e55cf88e46bd6448364463dcdb708cea35830afd8479cc12cf12dc/64ba6f96/YXKs1LhHLMvs3kY2RY3DzVOd8_9KH5qt4SIPOU-iMb--EvumdB2lgJAS_cA89coCMS_fh2SWcFgc-ch_PJspWw==?uid=0&filename=%D0%91%D0%B0%D0%B7%D0%B0%20%D0%B7%D0%BD%D0%B0%D0%BD%D0%B8%D0%B9%20%D0%98%D1%81%D1%82%D0%BE%D1%80%D0%B8%D1%8F%20%D0%A3%D0%98%D0%98.%20%D0%92%D0%B5%D1%80%D1%81%D0%B8%D1%8F%20%D0%BE%D1%82%2012.06.23.txt&disposition=attachment&hash=HfYc21gZK49KTl8aP3w%2BXmjNuCRCGb%2BWWOxn0Mf8s2cvq6un4I9JPPLRSlC4oon2q/J6bpmRyOJonT3VoXnDag%3D%3D%3A&limit=0&content_type=text%2Fplain&owner_uid=813875296&fsize=24339&hid=e0062e361f49634846cd15377c42efd2&media_type=document&tknv=v2&rtoken=qZB13q6FglUf&force_default=no&ycrid=na-57e9fbe2d69393fc803d86aa5e6d7c2f-downloader14f&ts=600fdc92a9180&s=c0d87caba0841e53d9af557cfceb2bade61dc177794c5d57585d2c5dc90d3b14&pb=U2FsdGVkX19NQgTry7OuTOQbBjIFFpibcW3TMgC8cI3r6cSuKeWRSj_xhG6tcVenJLW4YWJ0yFQJz_-gX92u29HiFKXSf0WgDV8Gnq2OwYs [following]\n",
            "--2023-07-21 07:57:34--  https://s599sas.storage.yandex.net/rdisk/e2135a0a95e55cf88e46bd6448364463dcdb708cea35830afd8479cc12cf12dc/64ba6f96/YXKs1LhHLMvs3kY2RY3DzVOd8_9KH5qt4SIPOU-iMb--EvumdB2lgJAS_cA89coCMS_fh2SWcFgc-ch_PJspWw==?uid=0&filename=%D0%91%D0%B0%D0%B7%D0%B0%20%D0%B7%D0%BD%D0%B0%D0%BD%D0%B8%D0%B9%20%D0%98%D1%81%D1%82%D0%BE%D1%80%D0%B8%D1%8F%20%D0%A3%D0%98%D0%98.%20%D0%92%D0%B5%D1%80%D1%81%D0%B8%D1%8F%20%D0%BE%D1%82%2012.06.23.txt&disposition=attachment&hash=HfYc21gZK49KTl8aP3w%2BXmjNuCRCGb%2BWWOxn0Mf8s2cvq6un4I9JPPLRSlC4oon2q/J6bpmRyOJonT3VoXnDag%3D%3D%3A&limit=0&content_type=text%2Fplain&owner_uid=813875296&fsize=24339&hid=e0062e361f49634846cd15377c42efd2&media_type=document&tknv=v2&rtoken=qZB13q6FglUf&force_default=no&ycrid=na-57e9fbe2d69393fc803d86aa5e6d7c2f-downloader14f&ts=600fdc92a9180&s=c0d87caba0841e53d9af557cfceb2bade61dc177794c5d57585d2c5dc90d3b14&pb=U2FsdGVkX19NQgTry7OuTOQbBjIFFpibcW3TMgC8cI3r6cSuKeWRSj_xhG6tcVenJLW4YWJ0yFQJz_-gX92u29HiFKXSf0WgDV8Gnq2OwYs\n",
            "Resolving s599sas.storage.yandex.net (s599sas.storage.yandex.net)... 37.9.68.60, 2a02:6b8:c02:e5b:0:41af:afc2:1215\n",
            "Connecting to s599sas.storage.yandex.net (s599sas.storage.yandex.net)|37.9.68.60|:443... connected.\n",
            "HTTP request sent, awaiting response... 200 OK\n",
            "Length: 24339 (24K) [text/plain]\n",
            "Saving to: ‘UII_history_120623.txt’\n",
            "\n",
            "UII_history_120623. 100%[===================>]  23.77K  --.-KB/s    in 0.05s   \n",
            "\n",
            "2023-07-21 07:57:34 (481 KB/s) - ‘UII_history_120623.txt’ saved [24339/24339]\n",
            "\n",
            "--2023-07-21 07:57:34--  https://getfile.dokpub.com/yandex/get/https://disk.yandex.ru/d/v4sae3Lad4Yn-Q\n",
            "Resolving getfile.dokpub.com (getfile.dokpub.com)... 142.132.255.217\n",
            "Connecting to getfile.dokpub.com (getfile.dokpub.com)|142.132.255.217|:443... connected.\n",
            "HTTP request sent, awaiting response... 302 Found\n",
            "Location: https://downloader.disk.yandex.ru/disk/0eb0c16a18351fad85f5ea002325a6ba4c7d4a5e90b94ca13976023fb6bcd16f/64ba6f99/YXKs1LhHLMvs3kY2RY3Dze03kzWComAlbt78Xc-GcRIFAPgdzl4cnIkp4F7s7m8xoVEGxq_dAdkT-BJHy2Sa0A%3D%3D?uid=0&filename=%D0%91%D0%B0%D0%B7%D0%B0%20%D0%B7%D0%BD%D0%B0%D0%BD%D0%B8%D0%B9%20%D0%9E%D0%B1%D1%83%D1%87%D0%B5%D0%BD%D0%B8%D0%B5%20%D0%A3%D0%98%D0%98.%20%D0%92%D0%B5%D1%80%D1%81%D0%B8%D1%8F%20%D0%BE%D1%82%2012.06.23.txt&disposition=attachment&hash=aY0R1IyZ%2BYyaUYnduNTaZY0Xj7FSchNifbzQdAzvMDo50l1C0NcHfX4Vt4Bd/Venq/J6bpmRyOJonT3VoXnDag%3D%3D%3A&limit=0&content_type=text%2Fplain&owner_uid=813875296&fsize=41810&hid=31d8fcc57b05ec60a45a20590e84ebf9&media_type=document&tknv=v2 [following]\n",
            "--2023-07-21 07:57:34--  https://downloader.disk.yandex.ru/disk/0eb0c16a18351fad85f5ea002325a6ba4c7d4a5e90b94ca13976023fb6bcd16f/64ba6f99/YXKs1LhHLMvs3kY2RY3Dze03kzWComAlbt78Xc-GcRIFAPgdzl4cnIkp4F7s7m8xoVEGxq_dAdkT-BJHy2Sa0A%3D%3D?uid=0&filename=%D0%91%D0%B0%D0%B7%D0%B0%20%D0%B7%D0%BD%D0%B0%D0%BD%D0%B8%D0%B9%20%D0%9E%D0%B1%D1%83%D1%87%D0%B5%D0%BD%D0%B8%D0%B5%20%D0%A3%D0%98%D0%98.%20%D0%92%D0%B5%D1%80%D1%81%D0%B8%D1%8F%20%D0%BE%D1%82%2012.06.23.txt&disposition=attachment&hash=aY0R1IyZ%2BYyaUYnduNTaZY0Xj7FSchNifbzQdAzvMDo50l1C0NcHfX4Vt4Bd/Venq/J6bpmRyOJonT3VoXnDag%3D%3D%3A&limit=0&content_type=text%2Fplain&owner_uid=813875296&fsize=41810&hid=31d8fcc57b05ec60a45a20590e84ebf9&media_type=document&tknv=v2\n",
            "Resolving downloader.disk.yandex.ru (downloader.disk.yandex.ru)... 77.88.21.127, 2a02:6b8::2:127\n",
            "Connecting to downloader.disk.yandex.ru (downloader.disk.yandex.ru)|77.88.21.127|:443... connected.\n",
            "HTTP request sent, awaiting response... 302 Found\n",
            "Location: https://s297sas.storage.yandex.net/rdisk/0eb0c16a18351fad85f5ea002325a6ba4c7d4a5e90b94ca13976023fb6bcd16f/64ba6f99/YXKs1LhHLMvs3kY2RY3Dze03kzWComAlbt78Xc-GcRIFAPgdzl4cnIkp4F7s7m8xoVEGxq_dAdkT-BJHy2Sa0A==?uid=0&filename=%D0%91%D0%B0%D0%B7%D0%B0%20%D0%B7%D0%BD%D0%B0%D0%BD%D0%B8%D0%B9%20%D0%9E%D0%B1%D1%83%D1%87%D0%B5%D0%BD%D0%B8%D0%B5%20%D0%A3%D0%98%D0%98.%20%D0%92%D0%B5%D1%80%D1%81%D0%B8%D1%8F%20%D0%BE%D1%82%2012.06.23.txt&disposition=attachment&hash=aY0R1IyZ%2BYyaUYnduNTaZY0Xj7FSchNifbzQdAzvMDo50l1C0NcHfX4Vt4Bd/Venq/J6bpmRyOJonT3VoXnDag%3D%3D%3A&limit=0&content_type=text%2Fplain&owner_uid=813875296&fsize=41810&hid=31d8fcc57b05ec60a45a20590e84ebf9&media_type=document&tknv=v2&rtoken=bOo7yi8Du6E4&force_default=no&ycrid=na-506cb1429422df4eeb1c7da563ad60d8-downloader8e&ts=600fdc9585840&s=caac46a8a6d1811520df3f76214f201f6aaa27fa2cfeaff712400c376141c285&pb=U2FsdGVkX1-FHxW_7Ne91gJs4XPA1z6powLWJE79blm7TaU8G678tIr6egyUwoPCjfzoZiTkekKx1yTe9yz6mRnQ1IjAiLpyOZgKYLHHXiE [following]\n",
            "--2023-07-21 07:57:35--  https://s297sas.storage.yandex.net/rdisk/0eb0c16a18351fad85f5ea002325a6ba4c7d4a5e90b94ca13976023fb6bcd16f/64ba6f99/YXKs1LhHLMvs3kY2RY3Dze03kzWComAlbt78Xc-GcRIFAPgdzl4cnIkp4F7s7m8xoVEGxq_dAdkT-BJHy2Sa0A==?uid=0&filename=%D0%91%D0%B0%D0%B7%D0%B0%20%D0%B7%D0%BD%D0%B0%D0%BD%D0%B8%D0%B9%20%D0%9E%D0%B1%D1%83%D1%87%D0%B5%D0%BD%D0%B8%D0%B5%20%D0%A3%D0%98%D0%98.%20%D0%92%D0%B5%D1%80%D1%81%D0%B8%D1%8F%20%D0%BE%D1%82%2012.06.23.txt&disposition=attachment&hash=aY0R1IyZ%2BYyaUYnduNTaZY0Xj7FSchNifbzQdAzvMDo50l1C0NcHfX4Vt4Bd/Venq/J6bpmRyOJonT3VoXnDag%3D%3D%3A&limit=0&content_type=text%2Fplain&owner_uid=813875296&fsize=41810&hid=31d8fcc57b05ec60a45a20590e84ebf9&media_type=document&tknv=v2&rtoken=bOo7yi8Du6E4&force_default=no&ycrid=na-506cb1429422df4eeb1c7da563ad60d8-downloader8e&ts=600fdc9585840&s=caac46a8a6d1811520df3f76214f201f6aaa27fa2cfeaff712400c376141c285&pb=U2FsdGVkX1-FHxW_7Ne91gJs4XPA1z6powLWJE79blm7TaU8G678tIr6egyUwoPCjfzoZiTkekKx1yTe9yz6mRnQ1IjAiLpyOZgKYLHHXiE\n",
            "Resolving s297sas.storage.yandex.net (s297sas.storage.yandex.net)... 213.180.206.41, 2a02:6b8:c02:c97:0:41af:186e:e9cf\n",
            "Connecting to s297sas.storage.yandex.net (s297sas.storage.yandex.net)|213.180.206.41|:443... connected.\n",
            "HTTP request sent, awaiting response... 200 OK\n",
            "Length: 41810 (41K) [text/plain]\n",
            "Saving to: ‘UII_learning_120623.txt’\n",
            "\n",
            "UII_learning_120623 100%[===================>]  40.83K  --.-KB/s    in 0.08s   \n",
            "\n",
            "2023-07-21 07:57:35 (500 KB/s) - ‘UII_learning_120623.txt’ saved [41810/41810]\n",
            "\n"
          ]
        }
      ]
    },
    {
      "cell_type": "code",
      "source": [
        "# Добавляем информацию и описание для наших векторных хранилищ (баз знаний)\n",
        "\n",
        "retriever_infos = [\n",
        "    {\n",
        "        \"name\": \"UII history\",\n",
        "        \"description\": \"Подходит для ответов на вопросы о истории УИИ\",\n",
        "        \"retriever\": history_retriever # Это база знаний из файла: 'UII_history_120623.txt'\n",
        "    },\n",
        "    {\n",
        "        \"name\": \"UII learning\",\n",
        "        \"description\": \"Подходит для ответов на вопросы об обучении в УИИ\",\n",
        "        \"retriever\": learning_retriever # Это база знаний из файла: 'UII_learning_120623.txt'\n",
        "    },\n",
        "    {\n",
        "        \"name\": \"personal\",\n",
        "        \"description\": \"Походит для ответов обо мне и моем прошлом\",\n",
        "        \"retriever\": personal_retriever # Это база знаний из тектса: \"Я люблю яблочный пирог (шарлотку)\", \"Мой любимый цвет фуксии\", \"Моя мечта стать проффесииональным танцором\", \"Я сломал руку, когда мне было 12\",\n",
        "    \"Мои родители из России\"\n",
        "    }\n",
        "]\n"
      ],
      "metadata": {
        "id": "-_l9g3G8aA2b"
      },
      "execution_count": null,
      "outputs": []
    },
    {
      "cell_type": "code",
      "source": [
        "# Иициализируем класс\n",
        "\n",
        "chain = MultiRetrievalQAChain.from_retrievers(ChatOpenAI(temperature=0), retriever_infos, verbose=True)"
      ],
      "metadata": {
        "id": "WIn8OzJxTwEH"
      },
      "execution_count": null,
      "outputs": []
    },
    {
      "cell_type": "code",
      "source": [
        "# Запускаем на вопросе из раздела истории УИИ (в промежуточных итогах видим что выбрано база знаний UII history)\n",
        "\n",
        "print(chain.run(\"Когда была получена первая заявка?\"))"
      ],
      "metadata": {
        "colab": {
          "base_uri": "https://localhost:8080/"
        },
        "id": "JrauDaqIP3vh",
        "outputId": "ac005e52-d183-4314-f1a9-73f4713c0482"
      },
      "execution_count": null,
      "outputs": [
        {
          "output_type": "stream",
          "name": "stdout",
          "text": [
            "\n",
            "\n",
            "\u001b[1m> Entering new MultiRetrievalQAChain chain...\u001b[0m\n"
          ]
        },
        {
          "output_type": "stream",
          "name": "stderr",
          "text": [
            "/usr/local/lib/python3.10/dist-packages/langchain/chains/llm.py:275: UserWarning: The predict_and_parse method is deprecated, instead pass an output parser directly to LLMChain.\n",
            "  warnings.warn(\n"
          ]
        },
        {
          "output_type": "stream",
          "name": "stdout",
          "text": [
            "UII history: {'query': 'Когда была получена первая заявка в УИИ?'}\n",
            "\u001b[1m> Finished chain.\u001b[0m\n",
            "Первая заявка была получена 19 августа 2018 года.\n"
          ]
        }
      ]
    },
    {
      "cell_type": "code",
      "source": [
        "# Запускаем на вопросе из раздела истории УИИ (в промежуточных итогах видим что выбрано база знаний UII learning)\n",
        "\n",
        "print(chain.run(\"Когда сдаются экзамены?\"))"
      ],
      "metadata": {
        "colab": {
          "base_uri": "https://localhost:8080/"
        },
        "id": "gFHGSiLRbl1P",
        "outputId": "e7a4df16-a9bb-4a9b-9caa-d3454439f3b3"
      },
      "execution_count": null,
      "outputs": [
        {
          "output_type": "stream",
          "name": "stdout",
          "text": [
            "\n",
            "\n",
            "\u001b[1m> Entering new MultiRetrievalQAChain chain...\u001b[0m\n",
            "UII learning: {'query': 'Когда проходят экзамены в УИИ?'}\n",
            "\u001b[1m> Finished chain.\u001b[0m\n",
            "Экзамены в УИИ проходят один раз в конце обучения.\n"
          ]
        }
      ]
    },
    {
      "cell_type": "code",
      "source": [
        "# Запускаем на вопросе из раздела истории УИИ (в промежуточных итогах видим что выбрано база знаний personal)\n",
        "\n",
        "print(chain.run(\"Что было в моем прошлом?\"))"
      ],
      "metadata": {
        "colab": {
          "base_uri": "https://localhost:8080/"
        },
        "id": "ljMYlw_Och4i",
        "outputId": "f1607b90-a379-4e10-8874-2abade6242f6"
      },
      "execution_count": null,
      "outputs": [
        {
          "output_type": "stream",
          "name": "stdout",
          "text": [
            "\n",
            "\n",
            "\u001b[1m> Entering new MultiRetrievalQAChain chain...\u001b[0m\n",
            "personal: {'query': 'Что было в моем прошлом?'}\n",
            "\u001b[1m> Finished chain.\u001b[0m\n",
            "В вашем прошлом были ваши родители из России, ваша мечта стать профессиональным танцором, вы сломали руку, когда вам было 12 лет, и ваш любимый цвет - фуксия.\n"
          ]
        }
      ]
    },
    {
      "cell_type": "markdown",
      "source": [
        "## 3. Агенты (Agents)\n",
        "Агент имеет доступ к набору инструментов и определяет, какие из них использовать, в зависимости от пользовательского ввода.\n",
        "\n",
        "https://python.langchain.com/docs/modules/agents/"
      ],
      "metadata": {
        "id": "gP5e-hutRKM6"
      }
    },
    {
      "cell_type": "code",
      "source": [
        "# @title Сервисные функции\n",
        "from langchain.agents import load_tools\n",
        "from langchain.agents import initialize_agent\n",
        "from langchain.agents import AgentType\n",
        "from langchain.llms import OpenAI\n",
        "from langchain.chat_models import ChatOpenAI\n",
        "\n",
        "llm = ChatOpenAI(temperature=0)"
      ],
      "metadata": {
        "id": "fDvycB2MRKm0"
      },
      "execution_count": null,
      "outputs": []
    },
    {
      "cell_type": "markdown",
      "source": [
        "**Open Meteo API** - Полезно, когда вы хотите получить информацию о погоде из Open Meteo API. Входными данными должен быть вопрос на естественном языке, на который может ответить этот API.\n",
        "\n",
        "**llm-math или Калькулятор** - Полезно, когда вам нужно ответить на вопросы по математике (используется библиотека math)"
      ],
      "metadata": {
        "id": "lj_qW1rQ7qfQ"
      }
    },
    {
      "cell_type": "code",
      "source": [
        "# Определяем наши инструменты\n",
        "tools = load_tools([\"open-meteo-api\", \"llm-math\"], llm=llm)"
      ],
      "metadata": {
        "id": "DhfTjkYXRTVD"
      },
      "execution_count": null,
      "outputs": []
    },
    {
      "cell_type": "markdown",
      "source": [
        "ZERO_SHOT_REACT_DESCRIPTION - Этот агент использует ReAct фреймворк для определения, какой инструмент использовать, исключительно на основе описания инструмента. Может быть предоставлено любое количество инструментов. Этот агент требует, чтобы для каждого инструмента было предоставлено описание.\n",
        "\n",
        "**Примечание: Это агент действия наиболее общего назначения.**\n",
        "\n",
        "Полный список типов агентов см. в разделе https://python.langchain.com/docs/modules/agents/agent_types/"
      ],
      "metadata": {
        "id": "NrrY3lXI8Y60"
      }
    },
    {
      "cell_type": "markdown",
      "source": [
        "verbose - это параметр отоборажения или скрытия промежуточной информации"
      ],
      "metadata": {
        "id": "gi4M1woipXUr"
      }
    },
    {
      "cell_type": "code",
      "source": [
        "# Инициализируем агента\n",
        "agent = initialize_agent(tools, llm, agent=AgentType.ZERO_SHOT_REACT_DESCRIPTION, verbose=True)"
      ],
      "metadata": {
        "id": "0kulQXY8RT2Z"
      },
      "execution_count": null,
      "outputs": []
    },
    {
      "cell_type": "markdown",
      "source": [
        "Можно справшивать по отдельности, и в зависимости от вопросов будет использоваться тот или иной инструмент (у нас в данном случае есть инструмент API метео сервиса для информации о погоде, и математический основанный на библиотеке math)"
      ],
      "metadata": {
        "id": "Btb_NZKfzDT8"
      }
    },
    {
      "cell_type": "code",
      "source": [
        "# Запускаем на вопросе про погоду (в промежуточных итогах видим что выбрано действие Action: Open Meteo API)\n",
        "\n",
        "agent.run(\"Какая погода в Сочи и скорость ветра? Ответь на руссском языке\")"
      ],
      "metadata": {
        "colab": {
          "base_uri": "https://localhost:8080/",
          "height": 257
        },
        "id": "MyHy2Xl8SOTc",
        "outputId": "6294b9ee-25ce-4da9-d9ec-d980149e5856"
      },
      "execution_count": null,
      "outputs": [
        {
          "output_type": "stream",
          "name": "stdout",
          "text": [
            "\n",
            "\n",
            "\u001b[1m> Entering new  chain...\u001b[0m\n",
            "\u001b[32;1m\u001b[1;3mI need to use the Open Meteo API to get the weather information for Sochi.\n",
            "Action: Open Meteo API\n",
            "Action Input: \"Какая погода в Сочи?\"\u001b[0m\n",
            "Observation: \u001b[36;1m\u001b[1;3mThe current weather in Sochi is 22°C with a windspeed of 20.1 km/h coming from the southeast (151°). The weather condition is represented by the WMO code 95, indicating a specific weather condition. It is currently daytime in Sochi. The time of the weather report is 07:00 on July 10, 2023.\u001b[0m\n",
            "Thought:\u001b[32;1m\u001b[1;3mI now know the weather in Sochi and the wind speed.\n",
            "Final Answer: В Сочи сейчас 22°C, скорость ветра составляет 20.1 км/ч.\u001b[0m\n",
            "\n",
            "\u001b[1m> Finished chain.\u001b[0m\n"
          ]
        },
        {
          "output_type": "execute_result",
          "data": {
            "text/plain": [
              "'В Сочи сейчас 22°C, скорость ветра составляет 20.1 км/ч.'"
            ],
            "application/vnd.google.colaboratory.intrinsic+json": {
              "type": "string"
            }
          },
          "metadata": {},
          "execution_count": 8
        }
      ]
    },
    {
      "cell_type": "code",
      "source": [
        "# Запускаем на задачке по математике (в промежуточных итогах видим что выбрано действие Action: Calculator)\n",
        "\n",
        "agent.run(\"Пол комнаты, имеющей форму прямоугольника со сторонами 3 м и строной 9 м, требуется покрыть паркетом из прямоугольных дощечек со сторонами 5 см и 30 см. Сколько потребуется таких дощечек? Ответь на руссском языке\")"
      ],
      "metadata": {
        "colab": {
          "base_uri": "https://localhost:8080/",
          "height": 383
        },
        "id": "zAkZhj8RvpFp",
        "outputId": "988035fc-1be8-4d27-e919-8c2af5b4b260"
      },
      "execution_count": null,
      "outputs": [
        {
          "output_type": "stream",
          "name": "stdout",
          "text": [
            "\n",
            "\n",
            "\u001b[1m> Entering new  chain...\u001b[0m\n",
            "\u001b[32;1m\u001b[1;3mЯ должен рассчитать площадь комнаты и площадь одной дощечки, чтобы определить количество необходимых дощечек.\n",
            "Action: Calculator\n",
            "Action Input: Рассчитать площадь комнаты: 3 м * 9 м\u001b[0m\n",
            "Observation: \u001b[33;1m\u001b[1;3mAnswer: 27\u001b[0m\n",
            "Thought:\u001b[32;1m\u001b[1;3mТеперь я знаю площадь комнаты - 27 квадратных метров. Теперь мне нужно рассчитать площадь одной дощечки.\n",
            "Action: Calculator\n",
            "Action Input: Рассчитать площадь одной дощечки: 5 см * 30 см\u001b[0m\n",
            "Observation: \u001b[33;1m\u001b[1;3mAnswer: 150\u001b[0m\n",
            "Thought:\u001b[32;1m\u001b[1;3mТеперь я знаю площадь комнаты - 27 квадратных метров и площадь одной дощечки - 150 квадратных сантиметров. Теперь мне нужно рассчитать количество необходимых дощечек.\n",
            "Action: Calculator\n",
            "Action Input: Рассчитать количество дощечек: 27 квадратных метров / 150 квадратных сантиметров\u001b[0m\n",
            "Observation: \u001b[33;1m\u001b[1;3mAnswer: 1800.0\u001b[0m\n",
            "Thought:\u001b[32;1m\u001b[1;3mТеперь я знаю, что для покрытия пола комнаты потребуется 1800 дощечек.\n",
            "Final Answer: Для покрытия пола комнаты потребуется 1800 дощечек.\u001b[0m\n",
            "\n",
            "\u001b[1m> Finished chain.\u001b[0m\n"
          ]
        },
        {
          "output_type": "execute_result",
          "data": {
            "text/plain": [
              "'Для покрытия пола комнаты потребуется 1800 дощечек.'"
            ],
            "application/vnd.google.colaboratory.intrinsic+json": {
              "type": "string"
            }
          },
          "metadata": {},
          "execution_count": 34
        }
      ]
    },
    {
      "cell_type": "markdown",
      "source": [
        "Можно в одном запросе перечислить несколько вопросов из одной или разных тем, соответственно применится тот или иной инструмент."
      ],
      "metadata": {
        "id": "VuYgDSOH1y3G"
      }
    },
    {
      "cell_type": "code",
      "source": [
        "agent.run(\"Сколько я потрачу бензина, при расходе моего автомобиля 7 л на 100 км в загородном режиме и 9.5 л на 100 км в городском режиме чтобы проехать 874 км по трассе и 125 км по городу? Какая погода в Сочи?\")"
      ],
      "metadata": {
        "colab": {
          "base_uri": "https://localhost:8080/",
          "height": 296
        },
        "id": "NiXvm-ib1zKJ",
        "outputId": "dc126783-3859-4b95-b1ee-d2917784bd87"
      },
      "execution_count": null,
      "outputs": [
        {
          "output_type": "stream",
          "name": "stdout",
          "text": [
            "\n",
            "\n",
            "\u001b[1m> Entering new AgentExecutor chain...\u001b[0m\n",
            "\u001b[32;1m\u001b[1;3mI need to calculate the amount of gasoline used for both highway and city driving, and then find out the weather in Sochi.\n",
            "Action: Calculator\n",
            "Action Input: (874 km / 100 km) * 7 L + (125 km / 100 km) * 9.5 L\u001b[0m\n",
            "Observation: \u001b[33;1m\u001b[1;3mAnswer: 73.055\u001b[0m\n",
            "Thought:\u001b[32;1m\u001b[1;3mNow I need to find out the weather in Sochi.\n",
            "Action: Open Meteo API\n",
            "Action Input: \"What is the weather in Sochi?\"\u001b[0m\n",
            "Observation: \u001b[36;1m\u001b[1;3mThe current weather in Sochi is 26.4°C with a windspeed of 17.6 km/h coming from the northwest. The weather condition is categorized as code 3, indicating a specific weather condition. The time of the weather report is 15:00 on July 24, 2023.\u001b[0m\n",
            "Thought:\u001b[32;1m\u001b[1;3mI now know the final answer.\n",
            "Final Answer: The amount of gasoline needed to travel 874 km on the highway and 125 km in the city is 73.055 liters. The current weather in Sochi is 26.4°C with a windspeed of 17.6 km/h coming from the northwest. The weather condition is code 3, and the report was made at 15:00 on July 24, 2023.\u001b[0m\n",
            "\n",
            "\u001b[1m> Finished chain.\u001b[0m\n"
          ]
        },
        {
          "output_type": "execute_result",
          "data": {
            "text/plain": [
              "'The amount of gasoline needed to travel 874 km on the highway and 125 km in the city is 73.055 liters. The current weather in Sochi is 26.4°C with a windspeed of 17.6 km/h coming from the northwest. The weather condition is code 3, and the report was made at 15:00 on July 24, 2023.'"
            ],
            "application/vnd.google.colaboratory.intrinsic+json": {
              "type": "string"
            }
          },
          "metadata": {},
          "execution_count": 8
        }
      ]
    },
    {
      "cell_type": "code",
      "source": [
        "agent.run(\"Какая сейчас погода в Сочи? Какая погода сегодня в Пхукете Тайланд?\")"
      ],
      "metadata": {
        "colab": {
          "base_uri": "https://localhost:8080/",
          "height": 330
        },
        "id": "JYPIhVkO5Cqx",
        "outputId": "187f5462-7ed3-4bbd-a231-dc057ce02a6b"
      },
      "execution_count": null,
      "outputs": [
        {
          "output_type": "stream",
          "name": "stdout",
          "text": [
            "\n",
            "\n",
            "\u001b[1m> Entering new  chain...\u001b[0m\n",
            "\u001b[32;1m\u001b[1;3mI need to use the Open Meteo API to get the weather information for Sochi and Phuket.\n",
            "Action: Open Meteo API\n",
            "Action Input: \"Какая сейчас погода в Сочи?\"\u001b[0m\n",
            "Observation: \u001b[36;1m\u001b[1;3mThe current weather in Sochi is 21.8°C with a windspeed of 18.4 km/h coming from the southeast direction. The weather condition is represented by the WMO code 95, indicating a specific weather condition. The observation was made at 08:00 local time on July 10, 2023.\u001b[0m\n",
            "Thought:\u001b[32;1m\u001b[1;3mI have the weather information for Sochi. Now I need to get the weather information for Phuket.\n",
            "Action: Open Meteo API\n",
            "Action Input: \"Какая погода сегодня в Пхукете Тайланд?\"\u001b[0m\n",
            "Observation: \u001b[36;1m\u001b[1;3mThe current weather in Phuket, Thailand is 28.2°C with a windspeed of 11.5 km/h coming from the west (266°). The weather condition is cloudy (weathercode 80) and it is currently daytime. The time of the weather report is 08:00 on July 10, 2023.\u001b[0m\n",
            "Thought:\u001b[32;1m\u001b[1;3mI now have the weather information for both Sochi and Phuket.\n",
            "Final Answer: The current weather in Sochi is 21.8°C with a windspeed of 18.4 km/h, and the current weather in Phuket is 28.2°C with a windspeed of 11.5 km/h.\u001b[0m\n",
            "\n",
            "\u001b[1m> Finished chain.\u001b[0m\n"
          ]
        },
        {
          "output_type": "execute_result",
          "data": {
            "text/plain": [
              "'The current weather in Sochi is 21.8°C with a windspeed of 18.4 km/h, and the current weather in Phuket is 28.2°C with a windspeed of 11.5 km/h.'"
            ],
            "application/vnd.google.colaboratory.intrinsic+json": {
              "type": "string"
            }
          },
          "metadata": {},
          "execution_count": 44
        }
      ]
    },
    {
      "cell_type": "markdown",
      "source": [
        "## 4. HTTP Chain\n",
        "Использование библиотеки request для получения результатов HTML из URL, а затем передачу в LLM для анализа результатов.\n",
        "\n",
        "https://python.langchain.com/docs/modules/chains/additional/llm_requests"
      ],
      "metadata": {
        "id": "3luRMYbSxKrx"
      }
    },
    {
      "cell_type": "code",
      "source": [
        "# @title Сервисные функции\n",
        "from langchain.chat_models import ChatOpenAI\n",
        "from langchain.chains import LLMRequestsChain, LLMChain\n",
        "from langchain.prompts import PromptTemplate\n",
        "\n",
        "def get_input(question: str):\n",
        "  inputs = {\n",
        "    \"query\": question,\n",
        "    \"url\": \"https://www.google.com/search?q=\" + question.replace(\" \", \"+\"),\n",
        "    }\n",
        "  return inputs"
      ],
      "metadata": {
        "id": "qxCWmt3NxNni",
        "cellView": "form"
      },
      "execution_count": null,
      "outputs": []
    },
    {
      "cell_type": "markdown",
      "source": [
        "Поиск в Google (на Yandex не работает, надо изменить template под используемый парсер)"
      ],
      "metadata": {
        "id": "sHcHTA7rmNVk"
      }
    },
    {
      "cell_type": "code",
      "source": [
        "# Подготавливаем темплейт для формирования запроса и получения ответа\n",
        "\n",
        "template = \"\"\"Between >>> and <<< are the raw search result text from google.\n",
        "Extract the answer to the question '{query}' or say \"not found\" if the information is not contained.\n",
        "Use the format\n",
        "Extracted:<answer or \"not found\">\n",
        ">>> {requests_result} <<<\n",
        "Extracted:\"\"\"\n",
        "\n",
        "PROMPT = PromptTemplate(\n",
        "    input_variables=[\"query\", \"requests_result\"],\n",
        "    template=template,\n",
        ")"
      ],
      "metadata": {
        "id": "aPeF7pDrxSDi"
      },
      "execution_count": null,
      "outputs": []
    },
    {
      "cell_type": "code",
      "source": [
        "# Инициализируем класс\n",
        "\n",
        "chain = LLMRequestsChain(llm_chain=LLMChain(llm=ChatOpenAI(temperature=0), prompt=PROMPT))"
      ],
      "metadata": {
        "id": "KpFOZQ7WZIp6"
      },
      "execution_count": null,
      "outputs": []
    },
    {
      "cell_type": "code",
      "source": [
        "# Запускаем на вопросе\n",
        "\n",
        "question = get_input(\"Напиши три (3) крупнейшие страны и их размеры в км2?\")\n",
        "\n",
        "result = chain(question)\n",
        "print(result)"
      ],
      "metadata": {
        "id": "QlKrm0Y0xqpv",
        "colab": {
          "base_uri": "https://localhost:8080/"
        },
        "outputId": "5a79b855-41fd-4fb1-de0e-3671df8eb968"
      },
      "execution_count": null,
      "outputs": [
        {
          "output_type": "stream",
          "name": "stdout",
          "text": [
            "{'query': 'Напиши три (3) крупнейшие страны и их размеры в км2?', 'url': 'https://www.google.com/search?q=Напиши+три+(3)+крупнейшие+страны+и+их+размеры+в+км2?', 'output': 'Россия (РФ) - 17 125 191 км²\\nКанада - 9 984 670 км²\\nКитай (КНР) - 9 598 962 км²'}\n"
          ]
        }
      ]
    },
    {
      "cell_type": "code",
      "source": [
        "# Вывод только ответа\n",
        "\n",
        "print(result['output'])"
      ],
      "metadata": {
        "colab": {
          "base_uri": "https://localhost:8080/"
        },
        "id": "kCRoIWrfEcRv",
        "outputId": "8b41446b-5f3a-407a-e808-7e66b5be8b6c"
      },
      "execution_count": null,
      "outputs": [
        {
          "output_type": "stream",
          "name": "stdout",
          "text": [
            "Россия (РФ) - 17 125 191 км²\n",
            "Канада - 9 984 670 км²\n",
            "Китай (КНР) - 9 598 962 км²\n"
          ]
        }
      ]
    },
    {
      "cell_type": "code",
      "source": [
        "question = get_input(\"Основатель Университета исскуственного интеллекта?\")\n",
        "\n",
        "result = chain(question)\n",
        "print(result)"
      ],
      "metadata": {
        "colab": {
          "base_uri": "https://localhost:8080/"
        },
        "id": "R-LsxdgwEoA7",
        "outputId": "aceb6aeb-26f3-4019-8d2d-eff6abd1ddd3"
      },
      "execution_count": null,
      "outputs": [
        {
          "output_type": "stream",
          "name": "stdout",
          "text": [
            "{'query': 'Основатель Университета исскуственного интеллекта?', 'url': 'https://www.google.com/search?q=Основатель+Университета+исскуственного+интеллекта?', 'output': 'Extracted: Дмитрий Романов'}\n"
          ]
        }
      ]
    },
    {
      "cell_type": "code",
      "source": [
        "print(result['output'])"
      ],
      "metadata": {
        "colab": {
          "base_uri": "https://localhost:8080/"
        },
        "id": "RQHKKtAPE_rW",
        "outputId": "9b3309e8-c656-48d0-f92f-c4d62ab37382"
      },
      "execution_count": null,
      "outputs": [
        {
          "output_type": "stream",
          "name": "stdout",
          "text": [
            "Extracted: Дмитрий Романов\n"
          ]
        }
      ]
    },
    {
      "cell_type": "markdown",
      "source": [
        "## 5. SQL\n",
        "Пример демонстрирует использование SQLDatabaseChain для ответов на вопросы через базу данных SQL и ее изменения (удаление, редактирование, добавление записей) с помощью запросов на естественном языке.\n",
        "\n",
        "https://python.langchain.com/docs/modules/chains/popular/sqlite"
      ],
      "metadata": {
        "id": "wR6Ae72wG1Da"
      }
    },
    {
      "cell_type": "markdown",
      "source": [
        "Загрузка демонстрационной базы данных Chinook.\n",
        "\n",
        "База данных Chinook была создана как альтернатива базе данных Northwind. Она представляет собой хранилище цифровых мультимедиа, включающее таблицы для исполнителей, альбомов, мультимедийных дорожек, счетов-фактур и клиентов."
      ],
      "metadata": {
        "id": "x7cBfklimF-E"
      }
    },
    {
      "cell_type": "code",
      "source": [
        "# @title Сервисные функции\n",
        "from langchain import OpenAI, SQLDatabase, SQLDatabaseChain\n",
        "from langchain.chat_models import ChatOpenAI\n",
        "\n",
        "# Отключение трасировки предупреждающих сообщений при выполнении кода\n",
        "os.environ[\"LANGCHAIN_TRACING\"] = \"false\"\n",
        "\n",
        "!wget https://www.sqlitetutorial.net/wp-content/uploads/2018/03/chinook.zip\n",
        "!unzip chinook.zip\n",
        "\n",
        "db = SQLDatabase.from_uri(\"sqlite://///content/chinook.db\")\n",
        "llm = ChatOpenAI(temperature=0, verbose=True)"
      ],
      "metadata": {
        "colab": {
          "base_uri": "https://localhost:8080/"
        },
        "id": "8gjCI1XxT_Zt",
        "outputId": "382c025e-99ce-47e2-d4c0-71bbd87af863",
        "cellView": "form"
      },
      "execution_count": null,
      "outputs": [
        {
          "output_type": "stream",
          "name": "stdout",
          "text": [
            "--2023-07-10 10:34:24--  https://www.sqlitetutorial.net/wp-content/uploads/2018/03/chinook.zip\n",
            "Resolving www.sqlitetutorial.net (www.sqlitetutorial.net)... 151.139.128.10\n",
            "Connecting to www.sqlitetutorial.net (www.sqlitetutorial.net)|151.139.128.10|:443... connected.\n",
            "HTTP request sent, awaiting response... 200 OK\n",
            "Length: 305596 (298K) [application/zip]\n",
            "Saving to: ‘chinook.zip’\n",
            "\n",
            "\rchinook.zip           0%[                    ]       0  --.-KB/s               \rchinook.zip         100%[===================>] 298.43K  --.-KB/s    in 0.04s   \n",
            "\n",
            "2023-07-10 10:34:24 (7.10 MB/s) - ‘chinook.zip’ saved [305596/305596]\n",
            "\n"
          ]
        }
      ]
    },
    {
      "cell_type": "code",
      "source": [
        "# Инициализируем класс\n",
        "\n",
        "db_chain = SQLDatabaseChain.from_llm(llm, db, verbose=True)"
      ],
      "metadata": {
        "id": "5Rs9fA13G7hg"
      },
      "execution_count": null,
      "outputs": []
    },
    {
      "cell_type": "code",
      "source": [
        "# Вывод информации о таблицах базы данных Chinook\n",
        "\n",
        "print(db.table_info)"
      ],
      "metadata": {
        "colab": {
          "base_uri": "https://localhost:8080/"
        },
        "id": "ZeQvUmVRZyvM",
        "outputId": "68810698-0d99-4af7-c92a-78514398b1a0"
      },
      "execution_count": null,
      "outputs": [
        {
          "output_type": "stream",
          "name": "stdout",
          "text": [
            "\n",
            "CREATE TABLE albums (\n",
            "\t\"AlbumId\" INTEGER NOT NULL, \n",
            "\t\"Title\" NVARCHAR(160) NOT NULL, \n",
            "\t\"ArtistId\" INTEGER NOT NULL, \n",
            "\tPRIMARY KEY (\"AlbumId\"), \n",
            "\tFOREIGN KEY(\"ArtistId\") REFERENCES artists (\"ArtistId\")\n",
            ")\n",
            "\n",
            "/*\n",
            "3 rows from albums table:\n",
            "AlbumId\tTitle\tArtistId\n",
            "1\tFor Those About To Rock We Salute You\t1\n",
            "2\tBalls to the Wall\t2\n",
            "3\tRestless and Wild\t2\n",
            "*/\n",
            "\n",
            "\n",
            "CREATE TABLE artists (\n",
            "\t\"ArtistId\" INTEGER NOT NULL, \n",
            "\t\"Name\" NVARCHAR(120), \n",
            "\tPRIMARY KEY (\"ArtistId\")\n",
            ")\n",
            "\n",
            "/*\n",
            "3 rows from artists table:\n",
            "ArtistId\tName\n",
            "1\tAC/DC\n",
            "2\tAccept\n",
            "3\tAerosmith\n",
            "*/\n",
            "\n",
            "\n",
            "CREATE TABLE customers (\n",
            "\t\"CustomerId\" INTEGER NOT NULL, \n",
            "\t\"FirstName\" NVARCHAR(40) NOT NULL, \n",
            "\t\"LastName\" NVARCHAR(20) NOT NULL, \n",
            "\t\"Company\" NVARCHAR(80), \n",
            "\t\"Address\" NVARCHAR(70), \n",
            "\t\"City\" NVARCHAR(40), \n",
            "\t\"State\" NVARCHAR(40), \n",
            "\t\"Country\" NVARCHAR(40), \n",
            "\t\"PostalCode\" NVARCHAR(10), \n",
            "\t\"Phone\" NVARCHAR(24), \n",
            "\t\"Fax\" NVARCHAR(24), \n",
            "\t\"Email\" NVARCHAR(60) NOT NULL, \n",
            "\t\"SupportRepId\" INTEGER, \n",
            "\tPRIMARY KEY (\"CustomerId\"), \n",
            "\tFOREIGN KEY(\"SupportRepId\") REFERENCES employees (\"EmployeeId\")\n",
            ")\n",
            "\n",
            "/*\n",
            "3 rows from customers table:\n",
            "CustomerId\tFirstName\tLastName\tCompany\tAddress\tCity\tState\tCountry\tPostalCode\tPhone\tFax\tEmail\tSupportRepId\n",
            "1\tLuís\tGonçalves\tEmbraer - Empresa Brasileira de Aeronáutica S.A.\tAv. Brigadeiro Faria Lima, 2170\tSão José dos Campos\tSP\tBrazil\t12227-000\t+55 (12) 3923-5555\t+55 (12) 3923-5566\tluisg@embraer.com.br\t3\n",
            "2\tLeonie\tKöhler\tNone\tTheodor-Heuss-Straße 34\tStuttgart\tNone\tGermany\t70174\t+49 0711 2842222\tNone\tleonekohler@surfeu.de\t5\n",
            "3\tFrançois\tTremblay\tNone\t1498 rue Bélanger\tMontréal\tQC\tCanada\tH2G 1A7\t+1 (514) 721-4711\tNone\tftremblay@gmail.com\t3\n",
            "*/\n",
            "\n",
            "\n",
            "CREATE TABLE employees (\n",
            "\t\"EmployeeId\" INTEGER NOT NULL, \n",
            "\t\"LastName\" NVARCHAR(20) NOT NULL, \n",
            "\t\"FirstName\" NVARCHAR(20) NOT NULL, \n",
            "\t\"Title\" NVARCHAR(30), \n",
            "\t\"ReportsTo\" INTEGER, \n",
            "\t\"BirthDate\" DATETIME, \n",
            "\t\"HireDate\" DATETIME, \n",
            "\t\"Address\" NVARCHAR(70), \n",
            "\t\"City\" NVARCHAR(40), \n",
            "\t\"State\" NVARCHAR(40), \n",
            "\t\"Country\" NVARCHAR(40), \n",
            "\t\"PostalCode\" NVARCHAR(10), \n",
            "\t\"Phone\" NVARCHAR(24), \n",
            "\t\"Fax\" NVARCHAR(24), \n",
            "\t\"Email\" NVARCHAR(60), \n",
            "\tPRIMARY KEY (\"EmployeeId\"), \n",
            "\tFOREIGN KEY(\"ReportsTo\") REFERENCES employees (\"EmployeeId\")\n",
            ")\n",
            "\n",
            "/*\n",
            "3 rows from employees table:\n",
            "EmployeeId\tLastName\tFirstName\tTitle\tReportsTo\tBirthDate\tHireDate\tAddress\tCity\tState\tCountry\tPostalCode\tPhone\tFax\tEmail\n",
            "2\tEdwards\tNancy\tSales Manager\t1\t1958-12-08 00:00:00\t2002-05-01 00:00:00\t825 8 Ave SW\tCalgary\tAB\tCanada\tT2P 2T3\t+1 (403) 262-3443\t+1 (403) 262-3322\tnancy@chinookcorp.com\n",
            "3\tPeacock\tJane\tSales Support Agent\t2\t1973-08-29 00:00:00\t2002-04-01 00:00:00\t1111 6 Ave SW\tCalgary\tAB\tCanada\tT2P 5M5\t+1 (403) 262-3443\t+1 (403) 262-6712\tjane@chinookcorp.com\n",
            "4\tPark\tMargaret\tSales Support Agent\t2\t1947-09-19 00:00:00\t2003-05-03 00:00:00\t683 10 Street SW\tCalgary\tAB\tCanada\tT2P 5G3\t+1 (403) 263-4423\t+1 (403) 263-4289\tmargaret@chinookcorp.com\n",
            "*/\n",
            "\n",
            "\n",
            "CREATE TABLE genres (\n",
            "\t\"GenreId\" INTEGER NOT NULL, \n",
            "\t\"Name\" NVARCHAR(120), \n",
            "\tPRIMARY KEY (\"GenreId\")\n",
            ")\n",
            "\n",
            "/*\n",
            "3 rows from genres table:\n",
            "GenreId\tName\n",
            "1\tRock\n",
            "2\tJazz\n",
            "3\tMetal\n",
            "*/\n",
            "\n",
            "\n",
            "CREATE TABLE invoice_items (\n",
            "\t\"InvoiceLineId\" INTEGER NOT NULL, \n",
            "\t\"InvoiceId\" INTEGER NOT NULL, \n",
            "\t\"TrackId\" INTEGER NOT NULL, \n",
            "\t\"UnitPrice\" NUMERIC(10, 2) NOT NULL, \n",
            "\t\"Quantity\" INTEGER NOT NULL, \n",
            "\tPRIMARY KEY (\"InvoiceLineId\"), \n",
            "\tFOREIGN KEY(\"InvoiceId\") REFERENCES invoices (\"InvoiceId\"), \n",
            "\tFOREIGN KEY(\"TrackId\") REFERENCES tracks (\"TrackId\")\n",
            ")\n",
            "\n",
            "/*\n",
            "3 rows from invoice_items table:\n",
            "InvoiceLineId\tInvoiceId\tTrackId\tUnitPrice\tQuantity\n",
            "1\t1\t2\t0.99\t1\n",
            "2\t1\t4\t0.99\t1\n",
            "3\t2\t6\t0.99\t1\n",
            "*/\n",
            "\n",
            "\n",
            "CREATE TABLE invoices (\n",
            "\t\"InvoiceId\" INTEGER NOT NULL, \n",
            "\t\"CustomerId\" INTEGER NOT NULL, \n",
            "\t\"InvoiceDate\" DATETIME NOT NULL, \n",
            "\t\"BillingAddress\" NVARCHAR(70), \n",
            "\t\"BillingCity\" NVARCHAR(40), \n",
            "\t\"BillingState\" NVARCHAR(40), \n",
            "\t\"BillingCountry\" NVARCHAR(40), \n",
            "\t\"BillingPostalCode\" NVARCHAR(10), \n",
            "\t\"Total\" NUMERIC(10, 2) NOT NULL, \n",
            "\tPRIMARY KEY (\"InvoiceId\"), \n",
            "\tFOREIGN KEY(\"CustomerId\") REFERENCES customers (\"CustomerId\")\n",
            ")\n",
            "\n",
            "/*\n",
            "3 rows from invoices table:\n",
            "InvoiceId\tCustomerId\tInvoiceDate\tBillingAddress\tBillingCity\tBillingState\tBillingCountry\tBillingPostalCode\tTotal\n",
            "1\t2\t2009-01-01 00:00:00\tTheodor-Heuss-Straße 34\tStuttgart\tNone\tGermany\t70174\t1.98\n",
            "2\t4\t2009-01-02 00:00:00\tUllevålsveien 14\tOslo\tNone\tNorway\t0171\t3.96\n",
            "3\t8\t2009-01-03 00:00:00\tGrétrystraat 63\tBrussels\tNone\tBelgium\t1000\t5.94\n",
            "*/\n",
            "\n",
            "\n",
            "CREATE TABLE media_types (\n",
            "\t\"MediaTypeId\" INTEGER NOT NULL, \n",
            "\t\"Name\" NVARCHAR(120), \n",
            "\tPRIMARY KEY (\"MediaTypeId\")\n",
            ")\n",
            "\n",
            "/*\n",
            "3 rows from media_types table:\n",
            "MediaTypeId\tName\n",
            "1\tMPEG audio file\n",
            "2\tProtected AAC audio file\n",
            "3\tProtected MPEG-4 video file\n",
            "*/\n",
            "\n",
            "\n",
            "CREATE TABLE playlist_track (\n",
            "\t\"PlaylistId\" INTEGER NOT NULL, \n",
            "\t\"TrackId\" INTEGER NOT NULL, \n",
            "\tPRIMARY KEY (\"PlaylistId\", \"TrackId\"), \n",
            "\tFOREIGN KEY(\"PlaylistId\") REFERENCES playlists (\"PlaylistId\"), \n",
            "\tFOREIGN KEY(\"TrackId\") REFERENCES tracks (\"TrackId\")\n",
            ")\n",
            "\n",
            "/*\n",
            "3 rows from playlist_track table:\n",
            "PlaylistId\tTrackId\n",
            "1\t3402\n",
            "1\t3389\n",
            "1\t3390\n",
            "*/\n",
            "\n",
            "\n",
            "CREATE TABLE playlists (\n",
            "\t\"PlaylistId\" INTEGER NOT NULL, \n",
            "\t\"Name\" NVARCHAR(120), \n",
            "\tPRIMARY KEY (\"PlaylistId\")\n",
            ")\n",
            "\n",
            "/*\n",
            "3 rows from playlists table:\n",
            "PlaylistId\tName\n",
            "1\tMusic\n",
            "2\tMovies\n",
            "3\tTV Shows\n",
            "*/\n",
            "\n",
            "\n",
            "CREATE TABLE tracks (\n",
            "\t\"TrackId\" INTEGER NOT NULL, \n",
            "\t\"Name\" NVARCHAR(200) NOT NULL, \n",
            "\t\"AlbumId\" INTEGER, \n",
            "\t\"MediaTypeId\" INTEGER NOT NULL, \n",
            "\t\"GenreId\" INTEGER, \n",
            "\t\"Composer\" NVARCHAR(220), \n",
            "\t\"Milliseconds\" INTEGER NOT NULL, \n",
            "\t\"Bytes\" INTEGER, \n",
            "\t\"UnitPrice\" NUMERIC(10, 2) NOT NULL, \n",
            "\tPRIMARY KEY (\"TrackId\"), \n",
            "\tFOREIGN KEY(\"AlbumId\") REFERENCES albums (\"AlbumId\"), \n",
            "\tFOREIGN KEY(\"GenreId\") REFERENCES genres (\"GenreId\"), \n",
            "\tFOREIGN KEY(\"MediaTypeId\") REFERENCES media_types (\"MediaTypeId\")\n",
            ")\n",
            "\n",
            "/*\n",
            "3 rows from tracks table:\n",
            "TrackId\tName\tAlbumId\tMediaTypeId\tGenreId\tComposer\tMilliseconds\tBytes\tUnitPrice\n",
            "1\tFor Those About To Rock (We Salute You)\t1\t1\t1\tAngus Young, Malcolm Young, Brian Johnson\t343719\t11170334\t0.99\n",
            "2\tBalls to the Wall\t2\t2\t1\tNone\t342562\t5510424\t0.99\n",
            "3\tFast As a Shark\t3\t2\t1\tF. Baltes, S. Kaufman, U. Dirkscneider & W. Hoffman\t230619\t3990994\t0.99\n",
            "*/\n"
          ]
        }
      ]
    },
    {
      "cell_type": "code",
      "source": [
        "# Запускаем на запросе удаления удаления данных из таблицы (из словесного описания сформирован sql запрос (SQLQuery:) на удаление)\n",
        "\n",
        "db_chain.run(\"Удали первую запись из таблицы работников?\")"
      ],
      "metadata": {
        "colab": {
          "base_uri": "https://localhost:8080/",
          "height": 182
        },
        "id": "Hzfg3hugmqm1",
        "outputId": "bc2daed3-569b-42a4-8a06-9a0c532c8b13"
      },
      "execution_count": null,
      "outputs": [
        {
          "output_type": "stream",
          "name": "stdout",
          "text": [
            "\n",
            "\n",
            "\u001b[1m> Entering new  chain...\u001b[0m\n",
            "Удали первую запись из таблицы работников?\n",
            "SQLQuery:\u001b[32;1m\u001b[1;3mDELETE FROM employees WHERE EmployeeId = (SELECT MIN(EmployeeId) FROM employees)\u001b[0m\n",
            "SQLResult: \u001b[33;1m\u001b[1;3m\u001b[0m\n",
            "Answer:\u001b[32;1m\u001b[1;3mThe first record from the employees table has been deleted.\u001b[0m\n",
            "\u001b[1m> Finished chain.\u001b[0m\n"
          ]
        },
        {
          "output_type": "execute_result",
          "data": {
            "text/plain": [
              "'The first record from the employees table has been deleted.'"
            ],
            "application/vnd.google.colaboratory.intrinsic+json": {
              "type": "string"
            }
          },
          "metadata": {},
          "execution_count": 146
        }
      ]
    },
    {
      "cell_type": "code",
      "source": [
        "# Запускаем на запросе о получении информации из таблицы (из словесного описания сформирован sql запрос (SQLQuery:) на выборку информации)\n",
        "\n",
        "db_chain.run(\"Назовите несколько примеров композиций Bach?\")"
      ],
      "metadata": {
        "colab": {
          "base_uri": "https://localhost:8080/",
          "height": 275
        },
        "id": "JN2O0byNjVXz",
        "outputId": "12096115-5ed3-49ef-ea81-d6b2202c0edd"
      },
      "execution_count": null,
      "outputs": [
        {
          "output_type": "stream",
          "name": "stdout",
          "text": [
            "\n",
            "\n",
            "\u001b[1m> Entering new  chain...\u001b[0m\n",
            "Назовите несколько примеров композиций Bach?\n",
            "SQLQuery:\u001b[32;1m\u001b[1;3mSELECT \"Name\" \n",
            "FROM tracks \n",
            "WHERE \"Composer\" LIKE '%Bach%'\n",
            "LIMIT 5;\u001b[0m\n",
            "SQLResult: \u001b[33;1m\u001b[1;3m[('American Woman',), ('Concerto for 2 Violins in D Minor, BWV 1043: I. Vivace',), ('Aria Mit 30 Veränderungen, BWV 988 \"Goldberg Variations\": Aria',), ('Suite for Solo Cello No. 1 in G Major, BWV 1007: I. Prélude',), ('Toccata and Fugue in D Minor, BWV 565: I. Toccata',)]\u001b[0m\n",
            "Answer:\u001b[32;1m\u001b[1;3m('American Woman',), ('Concerto for 2 Violins in D Minor, BWV 1043: I. Vivace',), ('Aria Mit 30 Veränderungen, BWV 988 \"Goldberg Variations\": Aria',), ('Suite for Solo Cello No. 1 in G Major, BWV 1007: I. Prélude',), ('Toccata and Fugue in D Minor, BWV 565: I. Toccata',)\u001b[0m\n",
            "\u001b[1m> Finished chain.\u001b[0m\n"
          ]
        },
        {
          "output_type": "execute_result",
          "data": {
            "text/plain": [
              "'(\\'American Woman\\',), (\\'Concerto for 2 Violins in D Minor, BWV 1043: I. Vivace\\',), (\\'Aria Mit 30 Veränderungen, BWV 988 \"Goldberg Variations\": Aria\\',), (\\'Suite for Solo Cello No. 1 in G Major, BWV 1007: I. Prélude\\',), (\\'Toccata and Fugue in D Minor, BWV 565: I. Toccata\\',)'"
            ],
            "application/vnd.google.colaboratory.intrinsic+json": {
              "type": "string"
            }
          },
          "metadata": {},
          "execution_count": 140
        }
      ]
    },
    {
      "cell_type": "code",
      "source": [
        "# Запускаем на запросе о получении информации из таблицы (из словесного описания сформирован sql запрос (SQLQuery:) на выборку информации)\n",
        "\n",
        "db_chain.run(\"Сколько альбомов у Aerosmith?\")"
      ],
      "metadata": {
        "colab": {
          "base_uri": "https://localhost:8080/",
          "height": 255
        },
        "id": "cd_TeQmzZnDR",
        "outputId": "3646117c-99e7-43c0-e7b7-8526050a0b37"
      },
      "execution_count": null,
      "outputs": [
        {
          "output_type": "stream",
          "name": "stdout",
          "text": [
            "\n",
            "\n",
            "\u001b[1m> Entering new  chain...\u001b[0m\n",
            "Сколько альбомов у Aerosmith?\n",
            "SQLQuery:\u001b[32;1m\u001b[1;3mSELECT COUNT(*) AS \"Number of Albums\"\n",
            "FROM albums\n",
            "JOIN artists ON albums.ArtistId = artists.ArtistId\n",
            "WHERE artists.Name = 'Aerosmith'\u001b[0m\n",
            "SQLResult: \u001b[33;1m\u001b[1;3m[(1,)]\u001b[0m\n",
            "Answer:\u001b[32;1m\u001b[1;3mСколько альбомов у Aerosmith?\n",
            "Answer: У Aerosmith 1 альбом.\u001b[0m\n",
            "\u001b[1m> Finished chain.\u001b[0m\n"
          ]
        },
        {
          "output_type": "execute_result",
          "data": {
            "text/plain": [
              "'Сколько альбомов у Aerosmith?\\nAnswer: У Aerosmith 1 альбом.'"
            ],
            "application/vnd.google.colaboratory.intrinsic+json": {
              "type": "string"
            }
          },
          "metadata": {},
          "execution_count": 141
        }
      ]
    },
    {
      "cell_type": "code",
      "source": [
        "# Запускаем на запросе о получении информации из таблицы (из словесного описания сформирован sql запрос (SQLQuery:) на выборку информации)\n",
        "\n",
        "db_chain.run(\"Сколько сотрудников приживает в Канаде?\")"
      ],
      "metadata": {
        "colab": {
          "base_uri": "https://localhost:8080/",
          "height": 182
        },
        "id": "yIdVQ6rSb5Zv",
        "outputId": "01625fb8-a856-4852-e967-adf628a76247"
      },
      "execution_count": null,
      "outputs": [
        {
          "output_type": "stream",
          "name": "stdout",
          "text": [
            "\n",
            "\n",
            "\u001b[1m> Entering new  chain...\u001b[0m\n",
            "Сколько сотрудников приживает в Канаде?\n",
            "SQLQuery:\u001b[32;1m\u001b[1;3mSELECT COUNT(*) FROM employees WHERE Country = 'Canada'\u001b[0m\n",
            "SQLResult: \u001b[33;1m\u001b[1;3m[(8,)]\u001b[0m\n",
            "Answer:\u001b[32;1m\u001b[1;3m8\u001b[0m\n",
            "\u001b[1m> Finished chain.\u001b[0m\n"
          ]
        },
        {
          "output_type": "execute_result",
          "data": {
            "text/plain": [
              "'8'"
            ],
            "application/vnd.google.colaboratory.intrinsic+json": {
              "type": "string"
            }
          },
          "metadata": {},
          "execution_count": 142
        }
      ]
    },
    {
      "cell_type": "code",
      "source": [
        "# Вариант вывода результата без промежуточной информации\n",
        "\n",
        "db_chain = SQLDatabaseChain.from_llm(llm, db, verbose=False)\n",
        "db_chain.run(\"Сколько сотрудников приживает в Канаде?\")"
      ],
      "metadata": {
        "colab": {
          "base_uri": "https://localhost:8080/",
          "height": 36
        },
        "id": "fsq50dPVj7mV",
        "outputId": "9184c006-ecc6-46ac-f8be-af3af9c4f84d"
      },
      "execution_count": null,
      "outputs": [
        {
          "output_type": "execute_result",
          "data": {
            "text/plain": [
              "'8'"
            ],
            "application/vnd.google.colaboratory.intrinsic+json": {
              "type": "string"
            }
          },
          "metadata": {},
          "execution_count": 144
        }
      ]
    },
    {
      "cell_type": "markdown",
      "source": [
        "## 6. Поиск информации для ответа в разговоре QA и документу"
      ],
      "metadata": {
        "id": "sCUbaYBOJBo_"
      }
    },
    {
      "cell_type": "code",
      "source": [
        "# @title Сервисные функции\n",
        "from langchain.embeddings.openai import OpenAIEmbeddings\n",
        "from langchain.vectorstores import Chroma, FAISS\n",
        "from langchain.text_splitter import CharacterTextSplitter, RecursiveCharacterTextSplitter\n",
        "from langchain.chains import ConversationalRetrievalChain\n",
        "from langchain.chat_models import ChatOpenAI\n",
        "from langchain.document_loaders import TextLoader\n",
        "from langchain.memory import ConversationBufferMemory\n",
        "\n",
        "# Загрузка документа История УИИ\n",
        "!wget -O UII_history_120623.txt \"https://getfile.dokpub.com/yandex/get/https://disk.yandex.ru/d/fEwN40_ieKi_0g\"\n",
        "\n",
        "# Создание векторной базы из документа История УИИ\n",
        "loader = TextLoader(\"/content/UII_history_120623.txt\")\n",
        "documents = loader.load()\n",
        "\n",
        "text_splitter = RecursiveCharacterTextSplitter(chunk_size=1000, chunk_overlap=0)\n",
        "documents = text_splitter.split_documents(documents)\n",
        "\n",
        "embeddings = OpenAIEmbeddings()\n",
        "vectorstore = FAISS.from_documents(documents, embeddings)\n",
        "\n",
        "# Инициализация памяти истории чата\n",
        "memory = ConversationBufferMemory(memory_key=\"chat_history\", return_messages=True)\n",
        "\n",
        "def get_input(question: str):\n",
        "  inputs = {\"question\": query}\n",
        "  return inputs"
      ],
      "metadata": {
        "colab": {
          "base_uri": "https://localhost:8080/"
        },
        "id": "bdw_kdJwD5WR",
        "outputId": "eae84f6f-efed-451d-ad3b-7e26e2eb9e36",
        "cellView": "form"
      },
      "execution_count": null,
      "outputs": [
        {
          "output_type": "stream",
          "name": "stdout",
          "text": [
            "--2023-07-11 08:29:47--  https://getfile.dokpub.com/yandex/get/https://disk.yandex.ru/d/fEwN40_ieKi_0g\n",
            "Resolving getfile.dokpub.com (getfile.dokpub.com)... 142.132.255.217\n",
            "Connecting to getfile.dokpub.com (getfile.dokpub.com)|142.132.255.217|:443... connected.\n",
            "HTTP request sent, awaiting response... 302 Found\n",
            "Location: https://downloader.disk.yandex.ru/disk/674c5c18f5125c10fd88ec627cfcb5e013a50027bd6922f08a9f55ae80004518/64ad4b3c/YXKs1LhHLMvs3kY2RY3DzVOd8_9KH5qt4SIPOU-iMb--EvumdB2lgJAS_cA89coCMS_fh2SWcFgc-ch_PJspWw%3D%3D?uid=0&filename=%D0%91%D0%B0%D0%B7%D0%B0%20%D0%B7%D0%BD%D0%B0%D0%BD%D0%B8%D0%B9%20%D0%98%D1%81%D1%82%D0%BE%D1%80%D0%B8%D1%8F%20%D0%A3%D0%98%D0%98.%20%D0%92%D0%B5%D1%80%D1%81%D0%B8%D1%8F%20%D0%BE%D1%82%2012.06.23.txt&disposition=attachment&hash=HfYc21gZK49KTl8aP3w%2BXmjNuCRCGb%2BWWOxn0Mf8s2cvq6un4I9JPPLRSlC4oon2q/J6bpmRyOJonT3VoXnDag%3D%3D%3A&limit=0&content_type=text%2Fplain&owner_uid=813875296&fsize=24339&hid=e0062e361f49634846cd15377c42efd2&media_type=document&tknv=v2 [following]\n",
            "--2023-07-11 08:29:48--  https://downloader.disk.yandex.ru/disk/674c5c18f5125c10fd88ec627cfcb5e013a50027bd6922f08a9f55ae80004518/64ad4b3c/YXKs1LhHLMvs3kY2RY3DzVOd8_9KH5qt4SIPOU-iMb--EvumdB2lgJAS_cA89coCMS_fh2SWcFgc-ch_PJspWw%3D%3D?uid=0&filename=%D0%91%D0%B0%D0%B7%D0%B0%20%D0%B7%D0%BD%D0%B0%D0%BD%D0%B8%D0%B9%20%D0%98%D1%81%D1%82%D0%BE%D1%80%D0%B8%D1%8F%20%D0%A3%D0%98%D0%98.%20%D0%92%D0%B5%D1%80%D1%81%D0%B8%D1%8F%20%D0%BE%D1%82%2012.06.23.txt&disposition=attachment&hash=HfYc21gZK49KTl8aP3w%2BXmjNuCRCGb%2BWWOxn0Mf8s2cvq6un4I9JPPLRSlC4oon2q/J6bpmRyOJonT3VoXnDag%3D%3D%3A&limit=0&content_type=text%2Fplain&owner_uid=813875296&fsize=24339&hid=e0062e361f49634846cd15377c42efd2&media_type=document&tknv=v2\n",
            "Resolving downloader.disk.yandex.ru (downloader.disk.yandex.ru)... 77.88.21.127, 2a02:6b8::2:127\n",
            "Connecting to downloader.disk.yandex.ru (downloader.disk.yandex.ru)|77.88.21.127|:443... connected.\n",
            "HTTP request sent, awaiting response... 302 Found\n",
            "Location: https://s415vla.storage.yandex.net/rdisk/674c5c18f5125c10fd88ec627cfcb5e013a50027bd6922f08a9f55ae80004518/64ad4b3c/YXKs1LhHLMvs3kY2RY3DzVOd8_9KH5qt4SIPOU-iMb--EvumdB2lgJAS_cA89coCMS_fh2SWcFgc-ch_PJspWw==?uid=0&filename=%D0%91%D0%B0%D0%B7%D0%B0%20%D0%B7%D0%BD%D0%B0%D0%BD%D0%B8%D0%B9%20%D0%98%D1%81%D1%82%D0%BE%D1%80%D0%B8%D1%8F%20%D0%A3%D0%98%D0%98.%20%D0%92%D0%B5%D1%80%D1%81%D0%B8%D1%8F%20%D0%BE%D1%82%2012.06.23.txt&disposition=attachment&hash=HfYc21gZK49KTl8aP3w%2BXmjNuCRCGb%2BWWOxn0Mf8s2cvq6un4I9JPPLRSlC4oon2q/J6bpmRyOJonT3VoXnDag%3D%3D%3A&limit=0&content_type=text%2Fplain&owner_uid=813875296&fsize=24339&hid=e0062e361f49634846cd15377c42efd2&media_type=document&tknv=v2&rtoken=99nszHBIV75H&force_default=no&ycrid=na-997efde5dc39a37dea5e75cfa7218092-downloader10e&ts=60035413c4700&s=031b76b0c3d9b21ee2e93aed60a142656252cb9d2cd7a87e6fd8b8ebbbdc2a24&pb=U2FsdGVkX1_pZx64GIi0JjZjExRiF75UEyZJajsPKo6yJw51P_3unD5_OabD6HZJtF5gVS0zXfQ-oZzXg7jGYfgbYD_OesxtMS0M5RJB4SE [following]\n",
            "--2023-07-11 08:29:49--  https://s415vla.storage.yandex.net/rdisk/674c5c18f5125c10fd88ec627cfcb5e013a50027bd6922f08a9f55ae80004518/64ad4b3c/YXKs1LhHLMvs3kY2RY3DzVOd8_9KH5qt4SIPOU-iMb--EvumdB2lgJAS_cA89coCMS_fh2SWcFgc-ch_PJspWw==?uid=0&filename=%D0%91%D0%B0%D0%B7%D0%B0%20%D0%B7%D0%BD%D0%B0%D0%BD%D0%B8%D0%B9%20%D0%98%D1%81%D1%82%D0%BE%D1%80%D0%B8%D1%8F%20%D0%A3%D0%98%D0%98.%20%D0%92%D0%B5%D1%80%D1%81%D0%B8%D1%8F%20%D0%BE%D1%82%2012.06.23.txt&disposition=attachment&hash=HfYc21gZK49KTl8aP3w%2BXmjNuCRCGb%2BWWOxn0Mf8s2cvq6un4I9JPPLRSlC4oon2q/J6bpmRyOJonT3VoXnDag%3D%3D%3A&limit=0&content_type=text%2Fplain&owner_uid=813875296&fsize=24339&hid=e0062e361f49634846cd15377c42efd2&media_type=document&tknv=v2&rtoken=99nszHBIV75H&force_default=no&ycrid=na-997efde5dc39a37dea5e75cfa7218092-downloader10e&ts=60035413c4700&s=031b76b0c3d9b21ee2e93aed60a142656252cb9d2cd7a87e6fd8b8ebbbdc2a24&pb=U2FsdGVkX1_pZx64GIi0JjZjExRiF75UEyZJajsPKo6yJw51P_3unD5_OabD6HZJtF5gVS0zXfQ-oZzXg7jGYfgbYD_OesxtMS0M5RJB4SE\n",
            "Resolving s415vla.storage.yandex.net (s415vla.storage.yandex.net)... 141.8.129.162, 2a02:6b8:c0e:b10:0:41af:f2b1:765e\n",
            "Connecting to s415vla.storage.yandex.net (s415vla.storage.yandex.net)|141.8.129.162|:443... connected.\n",
            "HTTP request sent, awaiting response... 200 OK\n",
            "Length: 24339 (24K) [text/plain]\n",
            "Saving to: ‘UII_history_120623.txt’\n",
            "\n",
            "UII_history_120623. 100%[===================>]  23.77K  --.-KB/s    in 0.1s    \n",
            "\n",
            "2023-07-11 08:29:50 (178 KB/s) - ‘UII_history_120623.txt’ saved [24339/24339]\n",
            "\n"
          ]
        }
      ]
    },
    {
      "cell_type": "markdown",
      "source": [
        "### 1) Цепочка ConversationalRetrievalQA основана на цепочке RetrievalQAChain для обеспечения компонента истории чата.\n",
        "\n",
        "Сначала он объединяет историю чата (либо явно переданную, либо извлеченную из предоставленной памяти) и вопрос в отдельный вопрос, затем просматривает соответствующие документы у ретривера и, наконец, передает эти документы и вопрос в цепочку ответов на вопросы, чтобы вернуть ответ."
      ],
      "metadata": {
        "id": "GQQ1T2J3OtIv"
      }
    },
    {
      "cell_type": "code",
      "source": [
        "# Инициализируем класс\n",
        "\n",
        "qa = ConversationalRetrievalChain.from_llm(ChatOpenAI(temperature=0), vectorstore.as_retriever(), memory=memory)"
      ],
      "metadata": {
        "id": "gCUPjw2V-KS3"
      },
      "execution_count": null,
      "outputs": []
    },
    {
      "cell_type": "code",
      "source": [
        "# Запускаем на вопросе\n",
        "\n",
        "question = get_input(\"Привет! Меня зовут Аркадий Аркадьевич, в каком году запущена певая версия Terra AI?\")\n",
        "result = qa(question)\n",
        "\n",
        "#Вывод результата ответа модели\n",
        "\n",
        "print(result[\"answer\"])"
      ],
      "metadata": {
        "colab": {
          "base_uri": "https://localhost:8080/"
        },
        "id": "CnMMhbIq-KE4",
        "outputId": "1ee43b03-eb00-426d-a70c-56705d0d30d6"
      },
      "execution_count": null,
      "outputs": [
        {
          "output_type": "stream",
          "name": "stdout",
          "text": [
            " Первая версия Terra AI была запущена в октябре 2021 года.\n"
          ]
        }
      ]
    },
    {
      "cell_type": "code",
      "source": [
        "# Просмотр результата включая промежуточные данные и историю сообщений\n",
        "\n",
        "result"
      ],
      "metadata": {
        "colab": {
          "base_uri": "https://localhost:8080/"
        },
        "id": "cHI0WBWdI2Xr",
        "outputId": "71c51884-774c-4bb0-8347-a8ad0141cdf4"
      },
      "execution_count": null,
      "outputs": [
        {
          "output_type": "execute_result",
          "data": {
            "text/plain": [
              "{'question': 'Привет! Меня зовут Аркадий Аркадьевич, в каком году запущена певая версия Terra AI?',\n",
              " 'chat_history': [HumanMessage(content='Привет! Меня зовут Аркадий Аркадьевич, в каком году запущена певая версия Terra AI?', additional_kwargs={}, example=False),\n",
              "  AIMessage(content=' Первая версия Terra AI была запущена в октябре 2021 года.', additional_kwargs={}, example=False)],\n",
              " 'answer': ' Первая версия Terra AI была запущена в октябре 2021 года.'}"
            ]
          },
          "metadata": {},
          "execution_count": 136
        }
      ]
    },
    {
      "cell_type": "code",
      "source": [
        "question = get_input(\"Какие книги нравятся Дмитрию Романову?\")\n",
        "result = qa(question)\n",
        "\n",
        "print(result[\"answer\"])"
      ],
      "metadata": {
        "colab": {
          "base_uri": "https://localhost:8080/"
        },
        "id": "CbxqyiC-HqRg",
        "outputId": "edd7a3c7-d4ec-450a-ee6a-4e2989e6d862"
      },
      "execution_count": null,
      "outputs": [
        {
          "output_type": "stream",
          "name": "stdout",
          "text": [
            " Дмитрий Романов любит книги по нейронным сетям и психологии.\n"
          ]
        }
      ]
    },
    {
      "cell_type": "code",
      "source": [
        "# Просмотр результата включая промежуточные данные и историю сообщений\n",
        "\n",
        "result"
      ],
      "metadata": {
        "colab": {
          "base_uri": "https://localhost:8080/"
        },
        "id": "cnyyn-Z4I8Aa",
        "outputId": "54b390a4-0336-4f0b-cb89-f9c7c6730adf"
      },
      "execution_count": null,
      "outputs": [
        {
          "output_type": "execute_result",
          "data": {
            "text/plain": [
              "{'question': 'Какие книги нравятся Дмитрию Романову?',\n",
              " 'chat_history': [HumanMessage(content='Привет! Меня зовут Аркадий Аркадьевич, в каком году запущена певая версия Terra AI?', additional_kwargs={}, example=False),\n",
              "  AIMessage(content=' Первая версия Terra AI была запущена в октябре 2021 года.', additional_kwargs={}, example=False),\n",
              "  HumanMessage(content='Какие книги нравятся Дмитрию Романову?', additional_kwargs={}, example=False),\n",
              "  AIMessage(content=' Дмитрий Романов любит книги по нейронным сетям и психологии.', additional_kwargs={}, example=False)],\n",
              " 'answer': ' Дмитрий Романов любит книги по нейронным сетям и психологии.'}"
            ]
          },
          "metadata": {},
          "execution_count": 138
        }
      ]
    },
    {
      "cell_type": "code",
      "source": [
        "question = get_input(\"Какими языками программмирования он владеет?\")\n",
        "result = qa(question)\n",
        "\n",
        "print(result[\"answer\"])"
      ],
      "metadata": {
        "colab": {
          "base_uri": "https://localhost:8080/"
        },
        "id": "r0nF_1T9Wd4N",
        "outputId": "5b30b13e-278c-4816-92db-724233e44a05"
      },
      "execution_count": null,
      "outputs": [
        {
          "output_type": "stream",
          "name": "stdout",
          "text": [
            " Дмитрий Романов владеет языками программирования Pascal, C/C+, C#, Wpf, Silverlight и Python.\n"
          ]
        }
      ]
    },
    {
      "cell_type": "code",
      "source": [
        "# Просмотр результата включая промежуточные данные и историю сообщений\n",
        "\n",
        "result"
      ],
      "metadata": {
        "colab": {
          "base_uri": "https://localhost:8080/"
        },
        "id": "skWrvoxGWweb",
        "outputId": "525cb2d3-43fc-4a00-cbf1-f10a96c14d24"
      },
      "execution_count": null,
      "outputs": [
        {
          "output_type": "execute_result",
          "data": {
            "text/plain": [
              "{'question': 'Какими языками программмирования он владеет?',\n",
              " 'chat_history': [HumanMessage(content='Привет! Меня зовут Аркадий Аркадьевич, в каком году запущена певая версия Terra AI?', additional_kwargs={}, example=False),\n",
              "  AIMessage(content=' Первая версия Terra AI была запущена в октябре 2021 года.', additional_kwargs={}, example=False),\n",
              "  HumanMessage(content='Какие книги нравятся Дмитрию Романову?', additional_kwargs={}, example=False),\n",
              "  AIMessage(content=' Дмитрий Романов любит книги по нейронным сетям и психологии.', additional_kwargs={}, example=False),\n",
              "  HumanMessage(content='Какими языками программмирования он владеет?', additional_kwargs={}, example=False),\n",
              "  AIMessage(content=' Дмитрий Романов владеет языками программирования Pascal, C/C+, C#, Wpf, Silverlight и Python.', additional_kwargs={}, example=False)],\n",
              " 'answer': ' Дмитрий Романов владеет языками программирования Pascal, C/C+, C#, Wpf, Silverlight и Python.'}"
            ]
          },
          "metadata": {},
          "execution_count": 140
        }
      ]
    },
    {
      "cell_type": "markdown",
      "source": [
        "### 2) Использование разных моделей для уточнения вопроса и генерации ответа\n",
        "\n",
        "Эта цепочка состоит из двух этапов. Во-первых, она объединяет текущий вопрос и историю чата в отдельный вопрос. Это необходимо для создания отдельного вектора для использования при поиске. После этого он выполняет поиск, а затем отвечает на вопрос, используя расширенную генерацию поиска с помощью отдельной модели."
      ],
      "metadata": {
        "id": "pw_vmHzM-ID_"
      }
    },
    {
      "cell_type": "markdown",
      "source": [
        "GPT4 для генерации ответа, а ChatGpt (более дешевая)  для уточнения вопроса и отбора информации из истории и документа"
      ],
      "metadata": {
        "id": "RMg1bDimPtl2"
      }
    },
    {
      "cell_type": "code",
      "source": [
        "# Инициализируем класс\n",
        "\n",
        "qa = ConversationalRetrievalChain.from_llm(\n",
        "    ChatOpenAI(temperature=0, model=\"gpt-4\"),\n",
        "    vectorstore.as_retriever(),\n",
        "    condense_question_llm = ChatOpenAI(temperature=0, model='gpt-3.5-turbo'),\n",
        ")\n",
        "# Инициализируем историю чата\n",
        "\n",
        "chat_history = []"
      ],
      "metadata": {
        "id": "mKkCB_xPMntp"
      },
      "execution_count": null,
      "outputs": []
    },
    {
      "cell_type": "code",
      "source": [
        "# Запускаем на вопросе\n",
        "\n",
        "question = \"Привет! Меня зовут Аркадий Аркадьевич, в каком году запущена певая версия Terra AI?\"\n",
        "result = qa({\"question\": question, \"chat_history\": chat_history})\n",
        "\n",
        "print(result[\"answer\"])"
      ],
      "metadata": {
        "colab": {
          "base_uri": "https://localhost:8080/"
        },
        "id": "Iz0uw2WpMsgD",
        "outputId": "5b24cdc3-ba23-48c7-95cd-3a0ac2ae4054"
      },
      "execution_count": null,
      "outputs": [
        {
          "output_type": "stream",
          "name": "stdout",
          "text": [
            "Первая версия Terra AI была запущена в октябре 2021 года.\n"
          ]
        }
      ]
    },
    {
      "cell_type": "code",
      "source": [
        "result"
      ],
      "metadata": {
        "colab": {
          "base_uri": "https://localhost:8080/"
        },
        "id": "sLKfMI70M2Md",
        "outputId": "fcadaae6-a467-4142-dffe-20e059efede2"
      },
      "execution_count": null,
      "outputs": [
        {
          "output_type": "execute_result",
          "data": {
            "text/plain": [
              "{'question': 'Привет! Меня зовут Аркадий Аркадьевич, в каком году запущена певая версия Terra AI?',\n",
              " 'chat_history': [],\n",
              " 'answer': 'Первая версия Terra AI была запущена в октябре 2021 года.'}"
            ]
          },
          "metadata": {},
          "execution_count": 144
        }
      ]
    },
    {
      "cell_type": "code",
      "source": [
        "chat_history.append((question, result[\"answer\"]))\n",
        "question = \"Какие книги нравятся Дмитрию Романову?\"\n",
        "result = qa({\"question\": question, \"chat_history\": chat_history})\n",
        "\n",
        "print(result[\"answer\"])"
      ],
      "metadata": {
        "colab": {
          "base_uri": "https://localhost:8080/"
        },
        "id": "cvu3kH03NXWt",
        "outputId": "068f95ac-7af3-427d-85e2-3db152d11ddb"
      },
      "execution_count": null,
      "outputs": [
        {
          "output_type": "stream",
          "name": "stdout",
          "text": [
            "Дмитрию Романову нравятся книги по нейронным сетям.\n"
          ]
        }
      ]
    },
    {
      "cell_type": "code",
      "source": [
        "result"
      ],
      "metadata": {
        "colab": {
          "base_uri": "https://localhost:8080/"
        },
        "id": "dn7wYc2uNoB2",
        "outputId": "d6e25513-5cda-4a90-e066-b3c9955e53ae"
      },
      "execution_count": null,
      "outputs": [
        {
          "output_type": "execute_result",
          "data": {
            "text/plain": [
              "{'question': 'Какие книги нравятся Дмитрию Романову?',\n",
              " 'chat_history': [('Привет! Меня зовут Аркадий Аркадьевич, в каком году запущена певая версия Terra AI?',\n",
              "   'Первая версия Terra AI была запущена в октябре 2021 года.')],\n",
              " 'answer': 'Дмитрию Романову нравятся книги по нейронным сетям.'}"
            ]
          },
          "metadata": {},
          "execution_count": 146
        }
      ]
    },
    {
      "cell_type": "code",
      "source": [
        "chat_history.append((question, result[\"answer\"]))\n",
        "question = \"Какими языками программмирования он владеет?\"\n",
        "result = qa({\"question\": question, \"chat_history\": chat_history})\n",
        "\n",
        "print(result[\"answer\"])"
      ],
      "metadata": {
        "colab": {
          "base_uri": "https://localhost:8080/"
        },
        "id": "_YFKn9UMYYc5",
        "outputId": "51db464f-4651-496e-dffa-f466a5b0eea0"
      },
      "execution_count": null,
      "outputs": [
        {
          "output_type": "stream",
          "name": "stdout",
          "text": [
            "Дмитрий Романов владеет языками программирования Pascal, C/C+, C#, а также Matlab, который является языком типа Python.\n"
          ]
        }
      ]
    },
    {
      "cell_type": "code",
      "source": [
        "result"
      ],
      "metadata": {
        "colab": {
          "base_uri": "https://localhost:8080/"
        },
        "id": "dMhPA19SYYZo",
        "outputId": "9b032cab-c195-4590-8967-b7276af9b43d"
      },
      "execution_count": null,
      "outputs": [
        {
          "output_type": "execute_result",
          "data": {
            "text/plain": [
              "{'question': 'Какими языками программмирования он владеет?',\n",
              " 'chat_history': [('Привет! Меня зовут Аркадий Аркадьевич, в каком году запущена певая версия Terra AI?',\n",
              "   'Первая версия Terra AI была запущена в октябре 2021 года.'),\n",
              "  ('Какие книги нравятся Дмитрию Романову?',\n",
              "   'Дмитрию Романову нравятся книги по нейронным сетям.')],\n",
              " 'answer': 'Дмитрий Романов владеет языками программирования Pascal, C/C+, C#, а также Matlab, который является языком типа Python.'}"
            ]
          },
          "metadata": {},
          "execution_count": 148
        }
      ]
    },
    {
      "cell_type": "code",
      "source": [
        "chat_history.append((question, result[\"answer\"]))\n",
        "question = \"Почему он провел первую живую лекцию сам?\"\n",
        "result = qa({\"question\": question, \"chat_history\": chat_history})\n",
        "\n",
        "print(result[\"answer\"])"
      ],
      "metadata": {
        "colab": {
          "base_uri": "https://localhost:8080/"
        },
        "id": "CAIuBKNNNwvw",
        "outputId": "213ed596-db75-4dfc-d4da-c5802308665c"
      },
      "execution_count": null,
      "outputs": [
        {
          "output_type": "stream",
          "name": "stdout",
          "text": [
            "Дмитрий Романов провел первую живую лекцию сам, потому что один из преподавателей не смог провести это занятие.\n"
          ]
        }
      ]
    },
    {
      "cell_type": "code",
      "source": [
        "result"
      ],
      "metadata": {
        "colab": {
          "base_uri": "https://localhost:8080/"
        },
        "id": "V-8kPVheN3Mv",
        "outputId": "5eaf1214-4d01-4271-9c79-d8f7b963484a"
      },
      "execution_count": null,
      "outputs": [
        {
          "output_type": "execute_result",
          "data": {
            "text/plain": [
              "{'question': 'Почему он провел первую живую лекцию сам?',\n",
              " 'chat_history': [('Привет! Меня зовут Аркадий Аркадьевич, в каком году запущена певая версия Terra AI?',\n",
              "   'Первая версия Terra AI была запущена в октябре 2021 года.'),\n",
              "  ('Какие книги нравятся Дмитрию Романову?',\n",
              "   'Дмитрию Романову нравятся книги по нейронным сетям.'),\n",
              "  ('Какими языками программмирования он владеет?',\n",
              "   'Дмитрий Романов владеет языками программирования Pascal, C/C+, C#, а также Matlab, который является языком типа Python.')],\n",
              " 'answer': 'Дмитрий Романов провел первую живую лекцию сам, потому что один из преподавателей не смог провести это занятие.'}"
            ]
          },
          "metadata": {},
          "execution_count": 150
        }
      ]
    },
    {
      "cell_type": "markdown",
      "source": [
        "## 7. GPT4 извлечение сущностей\n",
        "Цепочка извлечения использует параметр OpenAI functions, чтобы указать схему для извлечения объектов из документа. Это помогает нам убедиться, что модель выводит именно ту схему объектов и свойств, которые мы хотим, с их соответствующими типами.\n",
        "\n",
        "Цепочку извлечения следует использовать, когда мы хотим извлечь несколько объектов с их свойствами из одного и того же отрывка (т. Е. какие люди были упомянуты в этом отрывке?)"
      ],
      "metadata": {
        "id": "-kltkR1GaS4r"
      }
    },
    {
      "cell_type": "code",
      "source": [
        "# @title Сервисные функции\n",
        "from langchain.chat_models import ChatOpenAI\n",
        "from langchain.chains import create_extraction_chain, create_extraction_chain_pydantic\n",
        "from langchain.prompts import ChatPromptTemplate\n",
        "\n",
        "from typing import Optional, List\n",
        "from pydantic import BaseModel, Field\n",
        "\n",
        "llm = ChatOpenAI(temperature=0, model=\"gpt-4\")\n",
        "\n",
        "# Либо с помощью ChatGpt\n",
        "# llm = ChatOpenAI(temperature=0, model=\"gpt-3.5\")\n"
      ],
      "metadata": {
        "id": "Gkn5bXKQjVyX",
        "cellView": "form"
      },
      "execution_count": null,
      "outputs": []
    },
    {
      "cell_type": "code",
      "source": [
        "# Это наш текст из которого мы будем извлекать именованные сущности\n",
        "\n",
        "input = \"\"\"\n",
        "Рост Владимира - 187 см. Евгения на 7 см выше Владимира и прыгает выше него. Евгения - брюнетка, а Владимир - блондин.\n",
        "Собака Владимира Конни - лабрадор, и она любит играть в прятки.\n",
        "        \"\"\""
      ],
      "metadata": {
        "id": "uux-D8v2lwiJ"
      },
      "execution_count": null,
      "outputs": []
    },
    {
      "cell_type": "markdown",
      "source": [
        "### 1) **с помощью схемы**\n",
        "\n",
        "Чтобы извлечь сущности, нам нужно создать схему, подобную следующей, в которой мы указываем все свойства, которые мы хотим найти, и тип, который мы ожидаем, что они будут иметь. Мы также можем указать, какие из этих свойств являются обязательными, а какие необязательными."
      ],
      "metadata": {
        "id": "aD291x24kxnX"
      }
    },
    {
      "cell_type": "code",
      "source": [
        "# Создаем схему структуры наших параметров\n",
        "\n",
        "schema = {\n",
        "    \"properties\": {\n",
        "        \"person_name\": {\"type\": \"string\"},\n",
        "        \"person_height\": {\"type\": \"integer\"},\n",
        "        \"person_hair_color\": {\"type\": \"string\"},\n",
        "        \"dog_name\": {\"type\": \"string\"},\n",
        "        \"dog_breed\": {\"type\": \"string\"},\n",
        "    },\n",
        "    \"required\": [\"person_name\", \"person_height\"],\n",
        "}\n",
        "\n",
        "chain = create_extraction_chain(schema, llm)"
      ],
      "metadata": {
        "id": "zxDu9CEzjas7"
      },
      "execution_count": null,
      "outputs": []
    },
    {
      "cell_type": "code",
      "source": [
        "# Запускаем на тексте (получаем структуру найденных сущностей согласно созданной схеме)\n",
        "\n",
        "chain.run(input)"
      ],
      "metadata": {
        "colab": {
          "base_uri": "https://localhost:8080/"
        },
        "id": "LwC_0OPdkUKI",
        "outputId": "f831a1e6-e0ec-4e7c-923d-0c515b1a97fa"
      },
      "execution_count": null,
      "outputs": [
        {
          "output_type": "execute_result",
          "data": {
            "text/plain": [
              "[{'person_name': 'Владимир',\n",
              "  'person_height': 187,\n",
              "  'person_hair_color': 'блондин',\n",
              "  'dog_name': 'Конни',\n",
              "  'dog_breed': 'лабрадор'},\n",
              " {'person_name': 'Евгения',\n",
              "  'person_height': 194,\n",
              "  'person_hair_color': 'брюнетка'}]"
            ]
          },
          "metadata": {},
          "execution_count": 159
        }
      ]
    },
    {
      "cell_type": "markdown",
      "source": [
        "### 2) **с помощью pydantic**\n",
        "\n",
        "Мы также можем использовать схему Pydantic для выбора требуемых свойств и типов, и мы установим как \"Необязательные\" те, которые не являются строго обязательными.\n",
        "\n",
        "Используя create_extraction_chain_pydantic функцию, мы можем отправить Pydantic schema в качестве входных данных, а на выходе будет создан экземпляр объекта, который соответствует нашей желаемой схеме.\n",
        "\n",
        "Таким образом, мы можем указать нашу схему таким же образом, как мы определили бы новый класс или функцию в Python - с чисто питоновскими типами."
      ],
      "metadata": {
        "id": "KZ-50-3ck1-I"
      }
    },
    {
      "cell_type": "code",
      "source": [
        "# Создаем класс наших параметров\n",
        "\n",
        "class Properties(BaseModel):\n",
        "    person_name: str\n",
        "    person_height: int\n",
        "    person_hair_color: str\n",
        "    dog_breed: Optional[str]\n",
        "    dog_name: Optional[str]\n",
        "\n",
        "chain = create_extraction_chain_pydantic(pydantic_schema=Properties, llm=llm)"
      ],
      "metadata": {
        "id": "Bh5NaY3ak4zs"
      },
      "execution_count": null,
      "outputs": []
    },
    {
      "cell_type": "code",
      "source": [
        "# Запускаем на тексте (получаем типизированную структуру)\n",
        "\n",
        "chain.run(input)"
      ],
      "metadata": {
        "colab": {
          "base_uri": "https://localhost:8080/"
        },
        "id": "pJmQvXbslFLS",
        "outputId": "7b0826ee-c976-4d6f-c326-1801683380e0"
      },
      "execution_count": null,
      "outputs": [
        {
          "output_type": "execute_result",
          "data": {
            "text/plain": [
              "[Properties(person_name='Владимир', person_height=187, person_hair_color='блондин', dog_breed='лабрадор', dog_name='Конни'),\n",
              " Properties(person_name='Евгения', person_height=194, person_hair_color='брюнетка', dog_breed='', dog_name='')]"
            ]
          },
          "metadata": {},
          "execution_count": 161
        }
      ]
    },
    {
      "cell_type": "markdown",
      "source": [
        "## 8. Чат с GPT4"
      ],
      "metadata": {
        "id": "rfVcbp66m4EP"
      }
    },
    {
      "cell_type": "code",
      "source": [
        "# @title Сервисные функции\n",
        "from langchain.memory import ConversationBufferMemory\n",
        "from langchain.chat_models import ChatOpenAI\n",
        "from langchain.chains import ConversationChain\n",
        "\n",
        "llm = ChatOpenAI(temperature=0, model=\"gpt-4\")\n",
        "\n",
        "# Установка verbose в True приведет к распечатке некоторых внутренних состояний Chain объекта во время его запуска.\n",
        "conversation = ConversationChain(\n",
        "    llm=llm,\n",
        "    memory=ConversationBufferMemory(),\n",
        "    verbose=True\n",
        ")"
      ],
      "metadata": {
        "id": "7fc1wF0znOTL"
      },
      "execution_count": null,
      "outputs": []
    },
    {
      "cell_type": "code",
      "source": [
        "# Запуск диалога с нашим вопросом (в промежуточном выводе сохраняется диалог)\n",
        "\n",
        "conversation.run(\"Привет я Анатолий. Что такое ChatGpt?\")"
      ],
      "metadata": {
        "colab": {
          "base_uri": "https://localhost:8080/",
          "height": 330
        },
        "id": "sQPIwim7m8Ou",
        "outputId": "26e26083-9765-460f-f8ff-7fa7da68be4e"
      },
      "execution_count": null,
      "outputs": [
        {
          "output_type": "stream",
          "name": "stdout",
          "text": [
            "\n",
            "\n",
            "\u001b[1m> Entering new  chain...\u001b[0m\n",
            "Prompt after formatting:\n",
            "\u001b[32;1m\u001b[1;3mThe following is a friendly conversation between a human and an AI. The AI is talkative and provides lots of specific details from its context. If the AI does not know the answer to a question, it truthfully says it does not know.\n",
            "\n",
            "Current conversation:\n",
            "\n",
            "Human: Примет я Анатолий. Что такое ChatGpt?\n",
            "AI:\u001b[0m\n",
            "\n",
            "\u001b[1m> Finished chain.\u001b[0m\n"
          ]
        },
        {
          "output_type": "execute_result",
          "data": {
            "text/plain": [
              "'Привет, Анатолий! ChatGPT - это модель искусственного интеллекта, разработанная OpenAI. \"GPT\" означает \"Generative Pretrained Transformer\", что можно перевести как \"Генеративный предварительно обученный трансформер\". Это модель, которая использует машинное обучение для понимания и генерации текста. Она была обучена на множестве текстов из интернета и может генерировать ответы на вопросы, писать эссе, создавать истории и многое другое. Однако стоит помнить, что, несмотря на свою способность генерировать информативные и креативные ответы, ChatGPT не обладает собственным сознанием или пониманием. Она просто анализирует введенный текст и генерирует ответ на основе своего обучения.'"
            ],
            "application/vnd.google.colaboratory.intrinsic+json": {
              "type": "string"
            }
          },
          "metadata": {},
          "execution_count": 162
        }
      ]
    },
    {
      "cell_type": "code",
      "source": [
        "conversation.run(\"Как ее можно использовать?\")"
      ],
      "metadata": {
        "colab": {
          "base_uri": "https://localhost:8080/",
          "height": 366
        },
        "id": "8wzwkFrqnoGk",
        "outputId": "4a76833d-e108-483b-a3be-8c37653bb809"
      },
      "execution_count": null,
      "outputs": [
        {
          "output_type": "stream",
          "name": "stdout",
          "text": [
            "\n",
            "\n",
            "\u001b[1m> Entering new  chain...\u001b[0m\n",
            "Prompt after formatting:\n",
            "\u001b[32;1m\u001b[1;3mThe following is a friendly conversation between a human and an AI. The AI is talkative and provides lots of specific details from its context. If the AI does not know the answer to a question, it truthfully says it does not know.\n",
            "\n",
            "Current conversation:\n",
            "Human: Примет я Анатолий. Что такое ChatGpt?\n",
            "AI: Привет, Анатолий! ChatGPT - это модель искусственного интеллекта, разработанная OpenAI. \"GPT\" означает \"Generative Pretrained Transformer\", что можно перевести как \"Генеративный предварительно обученный трансформер\". Это модель, которая использует машинное обучение для понимания и генерации текста. Она была обучена на множестве текстов из интернета и может генерировать ответы на вопросы, писать эссе, создавать истории и многое другое. Однако стоит помнить, что, несмотря на свою способность генерировать информативные и креативные ответы, ChatGPT не обладает собственным сознанием или пониманием. Она просто анализирует введенный текст и генерирует ответ на основе своего обучения.\n",
            "Human: Как ее можно использовать?\n",
            "AI:\u001b[0m\n",
            "\n",
            "\u001b[1m> Finished chain.\u001b[0m\n"
          ]
        },
        {
          "output_type": "execute_result",
          "data": {
            "text/plain": [
              "'ChatGPT можно использовать в различных областях и для различных задач. Вот некоторые примеры:\\n\\n1. Помощник в написании текстов: ChatGPT может помочь в написании статей, блогов, эссе и других текстов, предлагая идеи или продолжая начатый вами текст.\\n\\n2. Обучение и образование: ChatGPT может использоваться как инструмент для обучения, отвечая на вопросы студентов, помогая в выполнении домашних заданий или объясняя сложные концепции.\\n\\n3. Поддержка клиентов: ChatGPT может быть интегрирована в системы поддержки клиентов для автоматического ответа на часто задаваемые вопросы.\\n\\n4. Игры и развлечения: ChatGPT может создавать интерактивные истории или игры, где пользователи могут взаимодействовать с AI.\\n\\n5. Персональный ассистент: ChatGPT может помочь в организации вашего дня, напоминая о важных событиях или задачах.\\n\\nОднако, несмотря на все эти возможности, важно помнить, что ChatGPT не обладает собственным сознанием или пониманием, и все ответы генерируются на основе обучения на большом объеме данных.'"
            ],
            "application/vnd.google.colaboratory.intrinsic+json": {
              "type": "string"
            }
          },
          "metadata": {},
          "execution_count": 163
        }
      ]
    },
    {
      "cell_type": "code",
      "source": [
        "conversation.run(\"Напомни как меня зовут?\")"
      ],
      "metadata": {
        "colab": {
          "base_uri": "https://localhost:8080/",
          "height": 549
        },
        "id": "5OjXdVZon-M5",
        "outputId": "8b619718-7386-45d6-8bc3-2f4f3958dc60"
      },
      "execution_count": null,
      "outputs": [
        {
          "output_type": "stream",
          "name": "stdout",
          "text": [
            "\n",
            "\n",
            "\u001b[1m> Entering new  chain...\u001b[0m\n",
            "Prompt after formatting:\n",
            "\u001b[32;1m\u001b[1;3mThe following is a friendly conversation between a human and an AI. The AI is talkative and provides lots of specific details from its context. If the AI does not know the answer to a question, it truthfully says it does not know.\n",
            "\n",
            "Current conversation:\n",
            "Human: Примет я Анатолий. Что такое ChatGpt?\n",
            "AI: Привет, Анатолий! ChatGPT - это модель искусственного интеллекта, разработанная OpenAI. \"GPT\" означает \"Generative Pretrained Transformer\", что можно перевести как \"Генеративный предварительно обученный трансформер\". Это модель, которая использует машинное обучение для понимания и генерации текста. Она была обучена на множестве текстов из интернета и может генерировать ответы на вопросы, писать эссе, создавать истории и многое другое. Однако стоит помнить, что, несмотря на свою способность генерировать информативные и креативные ответы, ChatGPT не обладает собственным сознанием или пониманием. Она просто анализирует введенный текст и генерирует ответ на основе своего обучения.\n",
            "Human: Как ее можно использовать?\n",
            "AI: ChatGPT можно использовать в различных областях и для различных задач. Вот некоторые примеры:\n",
            "\n",
            "1. Помощник в написании текстов: ChatGPT может помочь в написании статей, блогов, эссе и других текстов, предлагая идеи или продолжая начатый вами текст.\n",
            "\n",
            "2. Обучение и образование: ChatGPT может использоваться как инструмент для обучения, отвечая на вопросы студентов, помогая в выполнении домашних заданий или объясняя сложные концепции.\n",
            "\n",
            "3. Поддержка клиентов: ChatGPT может быть интегрирована в системы поддержки клиентов для автоматического ответа на часто задаваемые вопросы.\n",
            "\n",
            "4. Игры и развлечения: ChatGPT может создавать интерактивные истории или игры, где пользователи могут взаимодействовать с AI.\n",
            "\n",
            "5. Персональный ассистент: ChatGPT может помочь в организации вашего дня, напоминая о важных событиях или задачах.\n",
            "\n",
            "Однако, несмотря на все эти возможности, важно помнить, что ChatGPT не обладает собственным сознанием или пониманием, и все ответы генерируются на основе обучения на большом объеме данных.\n",
            "Human: Напомни как меня зовут?\n",
            "AI:\u001b[0m\n",
            "\n",
            "\u001b[1m> Finished chain.\u001b[0m\n"
          ]
        },
        {
          "output_type": "execute_result",
          "data": {
            "text/plain": [
              "'Тебя зовут Анатолий.'"
            ],
            "application/vnd.google.colaboratory.intrinsic+json": {
              "type": "string"
            }
          },
          "metadata": {},
          "execution_count": 164
        }
      ]
    },
    {
      "cell_type": "markdown",
      "source": [
        "## 9. Вызов функции в OpenAI\n",
        "В вызове API вы можете описать функции в gpt-3.5-turbo-0613 и gpt-4-0613 и заставить модель разумно выбрать вывод объекта JSON, содержащего аргументы для вызова этих функций. API не вызывает функцию; вместо этого модель генерирует JSON, который вы можете использовать для вызова функции в своем коде.\n",
        "\n",
        "\n",
        "**Пример использования выделения сущностей из текста и  вызова функций в моделях OpenAi ведения таблицы о ваших тратах (покупках)**"
      ],
      "metadata": {
        "id": "oSQoYUL8FRHT"
      }
    },
    {
      "cell_type": "code",
      "source": [
        "# @title Сервисные функции\n",
        "import openai\n",
        "import json\n",
        "import pandas as pd\n",
        "\n",
        "# Пример фиктивной функции, запрограммированной на добавление записи о ваших расходах\n",
        "# В рабочей среде это может быть ваш внутренний API или внешний API\n",
        "def add_current_sale(location, count, product_name):\n",
        "    \"\"\"Добавить запись в таблицу расходов\"\"\"\n",
        "    df.loc[len(df.index)] = [location, count, product_name]\n",
        "    sales_info = {\n",
        "        \"Место покупки\": location,\n",
        "        \"Количество\": count,\n",
        "        \"Наименование\": product_name,\n",
        "        \"Статус\": \"Записано!\"\n",
        "    }\n",
        "    df.head()\n",
        "    return json.dumps(sales_info)\n",
        "\n",
        "def run_conversation(query):\n",
        "# Шаг 1: отправьте разговор и доступные функции в GPT\n",
        "    messages = [{\"role\": \"system\", \"content\": \"Ты вежливый Ассистент.\"},\n",
        "      {\"role\": \"user\", \"content\": query}]\n",
        "\n",
        "    functions = [\n",
        "        {\n",
        "            \"name\": \"add_current_sale\",\n",
        "            \"description\": \"Добавить запись в таблицу расходов.\",\n",
        "            \"parameters\": {\n",
        "                \"type\": \"object\",\n",
        "                \"properties\": {\n",
        "                    \"Место покупки\": {\n",
        "                        \"type\": \"string\",\n",
        "                        \"description\": \"Место где потрачены деньги, например магазин (Пятерочка), пекарня, заправка и т.д.\",\n",
        "                    },\n",
        "                    \"Количество\": {\"type\": \"string\",\n",
        "                    \"description\": \"Количество купленного товара, например 1, 5 бутылок, 4 куска, 2 штуки, 1 пакет и т.д.\",\n",
        "                                   },\n",
        "\n",
        "                    \"Наименование\": {\"type\": \"string\",\n",
        "                    \"description\": \"Наименование купленного товара, например вода без газа, минералка Есентуки, масло сливочное, бензин и т.д.\",\n",
        "                                     },\n",
        "                    },\n",
        "                \"required\": [\"Место покупки\", \"Количество\", \"Наименование\"],\n",
        "            },\n",
        "        },\n",
        "    ]\n",
        "    response = openai.ChatCompletion.create(\n",
        "        model=\"gpt-3.5-turbo\",\n",
        "        messages=messages,\n",
        "        functions=functions,\n",
        "        function_call=\"auto\",  # по умолчанию используется значение auto\n",
        "    )\n",
        "    response_message = response[\"choices\"][0][\"message\"]\n",
        "\n",
        "    # Шаг 2: проверьте, хочет ли GPT вызвать функцию\n",
        "    if response_message.get(\"function_call\"):\n",
        "        # Шаг 3: вызовите функцию\n",
        "        # Примечание: ответ JSON не всегда может быть действительным; обязательно обработайте ошибки\n",
        "        available_functions = {\n",
        "            \"add_current_sale\": add_current_sale,\n",
        "        }  # в этом примере только одна функция, но у вас может быть несколько\n",
        "        function_name = response_message[\"function_call\"][\"name\"]\n",
        "        fuction_to_call = available_functions[function_name]\n",
        "        function_args = json.loads(response_message[\"function_call\"][\"arguments\"])\n",
        "        print(function_args)\n",
        "        function_response = fuction_to_call(\n",
        "            location=function_args.get(\"Место покупки\"),\n",
        "            count=function_args.get(\"Количество\"),\n",
        "            product_name=function_args.get(\"Наименование\"),\n",
        "        )\n",
        "\n",
        "        # Шаг 4: отправьте информацию о вызове функции и ответе функции в GPT\n",
        "        messages.append(response_message)  # продлите разговор с помощью ответа помощника\n",
        "        messages.append(\n",
        "            {\n",
        "                \"role\": \"function\",\n",
        "                \"name\": function_name,\n",
        "                \"content\": function_response,\n",
        "            }\n",
        "        )  # расширьте диалог с помощью function_response\n",
        "        second_response = openai.ChatCompletion.create(\n",
        "            model=\"gpt-3.5-turbo\",\n",
        "            messages=messages,\n",
        "        )  # получите новый ответ от GPT, где вы сможете увидеть ответ функции\n",
        "        return second_response[\"choices\"][0][\"message\"][\"content\"]\n",
        "    return response_message[\"content\"]"
      ],
      "metadata": {
        "cellView": "form",
        "id": "5soBpZmLoC8d"
      },
      "execution_count": null,
      "outputs": []
    },
    {
      "cell_type": "markdown",
      "source": [
        "Создадим тестовые данные"
      ],
      "metadata": {
        "id": "W5x60EDKg_Ou"
      }
    },
    {
      "cell_type": "code",
      "source": [
        "# Создадим тестовую таблицу расходов с некоторыми данными\n",
        "\n",
        "data = [\n",
        "    [\"Пекарня\", '5 штук', \"круасаны\"],\n",
        "    [\"Пятерочка\", '1 бутылка', \"вода без газа\"]\n",
        "    ]\n",
        "\n",
        "df = pd.DataFrame(data, columns=[\"Место покупки\", \"Количество\", \"Наименование\"])\n",
        "df"
      ],
      "metadata": {
        "colab": {
          "base_uri": "https://localhost:8080/",
          "height": 112
        },
        "id": "uZrbvwGeTDSF",
        "outputId": "a15cf435-3f09-48fa-db15-9f488cc638c0"
      },
      "execution_count": null,
      "outputs": [
        {
          "output_type": "execute_result",
          "data": {
            "text/plain": [
              "  Место покупки Количество   Наименование\n",
              "0       Пекарня     5 штук       круасаны\n",
              "1     Пятерочка  1 бутылка  вода без газа"
            ],
            "text/html": [
              "\n",
              "  <div id=\"df-27034894-8039-4010-bc0e-a9ce057efdd6\">\n",
              "    <div class=\"colab-df-container\">\n",
              "      <div>\n",
              "<style scoped>\n",
              "    .dataframe tbody tr th:only-of-type {\n",
              "        vertical-align: middle;\n",
              "    }\n",
              "\n",
              "    .dataframe tbody tr th {\n",
              "        vertical-align: top;\n",
              "    }\n",
              "\n",
              "    .dataframe thead th {\n",
              "        text-align: right;\n",
              "    }\n",
              "</style>\n",
              "<table border=\"1\" class=\"dataframe\">\n",
              "  <thead>\n",
              "    <tr style=\"text-align: right;\">\n",
              "      <th></th>\n",
              "      <th>Место покупки</th>\n",
              "      <th>Количество</th>\n",
              "      <th>Наименование</th>\n",
              "    </tr>\n",
              "  </thead>\n",
              "  <tbody>\n",
              "    <tr>\n",
              "      <th>0</th>\n",
              "      <td>Пекарня</td>\n",
              "      <td>5 штук</td>\n",
              "      <td>круасаны</td>\n",
              "    </tr>\n",
              "    <tr>\n",
              "      <th>1</th>\n",
              "      <td>Пятерочка</td>\n",
              "      <td>1 бутылка</td>\n",
              "      <td>вода без газа</td>\n",
              "    </tr>\n",
              "  </tbody>\n",
              "</table>\n",
              "</div>\n",
              "      <button class=\"colab-df-convert\" onclick=\"convertToInteractive('df-27034894-8039-4010-bc0e-a9ce057efdd6')\"\n",
              "              title=\"Convert this dataframe to an interactive table.\"\n",
              "              style=\"display:none;\">\n",
              "        \n",
              "  <svg xmlns=\"http://www.w3.org/2000/svg\" height=\"24px\"viewBox=\"0 0 24 24\"\n",
              "       width=\"24px\">\n",
              "    <path d=\"M0 0h24v24H0V0z\" fill=\"none\"/>\n",
              "    <path d=\"M18.56 5.44l.94 2.06.94-2.06 2.06-.94-2.06-.94-.94-2.06-.94 2.06-2.06.94zm-11 1L8.5 8.5l.94-2.06 2.06-.94-2.06-.94L8.5 2.5l-.94 2.06-2.06.94zm10 10l.94 2.06.94-2.06 2.06-.94-2.06-.94-.94-2.06-.94 2.06-2.06.94z\"/><path d=\"M17.41 7.96l-1.37-1.37c-.4-.4-.92-.59-1.43-.59-.52 0-1.04.2-1.43.59L10.3 9.45l-7.72 7.72c-.78.78-.78 2.05 0 2.83L4 21.41c.39.39.9.59 1.41.59.51 0 1.02-.2 1.41-.59l7.78-7.78 2.81-2.81c.8-.78.8-2.07 0-2.86zM5.41 20L4 18.59l7.72-7.72 1.47 1.35L5.41 20z\"/>\n",
              "  </svg>\n",
              "      </button>\n",
              "      \n",
              "  <style>\n",
              "    .colab-df-container {\n",
              "      display:flex;\n",
              "      flex-wrap:wrap;\n",
              "      gap: 12px;\n",
              "    }\n",
              "\n",
              "    .colab-df-convert {\n",
              "      background-color: #E8F0FE;\n",
              "      border: none;\n",
              "      border-radius: 50%;\n",
              "      cursor: pointer;\n",
              "      display: none;\n",
              "      fill: #1967D2;\n",
              "      height: 32px;\n",
              "      padding: 0 0 0 0;\n",
              "      width: 32px;\n",
              "    }\n",
              "\n",
              "    .colab-df-convert:hover {\n",
              "      background-color: #E2EBFA;\n",
              "      box-shadow: 0px 1px 2px rgba(60, 64, 67, 0.3), 0px 1px 3px 1px rgba(60, 64, 67, 0.15);\n",
              "      fill: #174EA6;\n",
              "    }\n",
              "\n",
              "    [theme=dark] .colab-df-convert {\n",
              "      background-color: #3B4455;\n",
              "      fill: #D2E3FC;\n",
              "    }\n",
              "\n",
              "    [theme=dark] .colab-df-convert:hover {\n",
              "      background-color: #434B5C;\n",
              "      box-shadow: 0px 1px 3px 1px rgba(0, 0, 0, 0.15);\n",
              "      filter: drop-shadow(0px 1px 2px rgba(0, 0, 0, 0.3));\n",
              "      fill: #FFFFFF;\n",
              "    }\n",
              "  </style>\n",
              "\n",
              "      <script>\n",
              "        const buttonEl =\n",
              "          document.querySelector('#df-27034894-8039-4010-bc0e-a9ce057efdd6 button.colab-df-convert');\n",
              "        buttonEl.style.display =\n",
              "          google.colab.kernel.accessAllowed ? 'block' : 'none';\n",
              "\n",
              "        async function convertToInteractive(key) {\n",
              "          const element = document.querySelector('#df-27034894-8039-4010-bc0e-a9ce057efdd6');\n",
              "          const dataTable =\n",
              "            await google.colab.kernel.invokeFunction('convertToInteractive',\n",
              "                                                     [key], {});\n",
              "          if (!dataTable) return;\n",
              "\n",
              "          const docLinkHtml = 'Like what you see? Visit the ' +\n",
              "            '<a target=\"_blank\" href=https://colab.research.google.com/notebooks/data_table.ipynb>data table notebook</a>'\n",
              "            + ' to learn more about interactive tables.';\n",
              "          element.innerHTML = '';\n",
              "          dataTable['output_type'] = 'display_data';\n",
              "          await google.colab.output.renderOutput(dataTable, element);\n",
              "          const docLink = document.createElement('div');\n",
              "          docLink.innerHTML = docLinkHtml;\n",
              "          element.appendChild(docLink);\n",
              "        }\n",
              "      </script>\n",
              "    </div>\n",
              "  </div>\n",
              "  "
            ]
          },
          "metadata": {},
          "execution_count": 32
        }
      ]
    },
    {
      "cell_type": "markdown",
      "source": [
        "Пример добавления записи о ваших расходах в dataframe Pandas"
      ],
      "metadata": {
        "id": "K8XnLyU_hNyy"
      }
    },
    {
      "cell_type": "code",
      "source": [
        "#Запуск модели с вашими данными о покупках (в промежуточном выводе отображается структура найденных данных и ответ модели)\n",
        "\n",
        "print(run_conversation('Я сегодня был в Пятерочке, и купил 7 бутылок кефира. Добавь в таблицу расходов'))"
      ],
      "metadata": {
        "colab": {
          "base_uri": "https://localhost:8080/"
        },
        "id": "wD8XhkmfFXrb",
        "outputId": "9611d3be-5e4d-4a24-97b6-fdf0073ee62f"
      },
      "execution_count": null,
      "outputs": [
        {
          "output_type": "stream",
          "name": "stdout",
          "text": [
            "{'Место покупки': 'Пятерочка', 'Количество': '7', 'Наименование': 'кефир'}\n",
            "Я добавил информацию о покупке в таблицу расходов. Запись была успешно добавлена! Если у вас есть еще какие-либо записи, которые вы хотели бы добавить, пожалуйста, сообщите мне.\n"
          ]
        }
      ]
    },
    {
      "cell_type": "code",
      "source": [
        "# Просмотр таблицы на наличие новой записи\n",
        "\n",
        "df"
      ],
      "metadata": {
        "colab": {
          "base_uri": "https://localhost:8080/",
          "height": 143
        },
        "id": "OzFBXVdbcGvU",
        "outputId": "21497f78-b6cc-4774-9bc6-d7eeef7b6509"
      },
      "execution_count": null,
      "outputs": [
        {
          "output_type": "execute_result",
          "data": {
            "text/plain": [
              "  Место покупки Количество   Наименование\n",
              "0       Пекарня     5 штук       круасаны\n",
              "1     Пятерочка  1 бутылка  вода без газа\n",
              "2     Пятерочка          7          кефир"
            ],
            "text/html": [
              "\n",
              "  <div id=\"df-effaccc5-eaa3-465e-acc8-f30dc3b9d8b6\">\n",
              "    <div class=\"colab-df-container\">\n",
              "      <div>\n",
              "<style scoped>\n",
              "    .dataframe tbody tr th:only-of-type {\n",
              "        vertical-align: middle;\n",
              "    }\n",
              "\n",
              "    .dataframe tbody tr th {\n",
              "        vertical-align: top;\n",
              "    }\n",
              "\n",
              "    .dataframe thead th {\n",
              "        text-align: right;\n",
              "    }\n",
              "</style>\n",
              "<table border=\"1\" class=\"dataframe\">\n",
              "  <thead>\n",
              "    <tr style=\"text-align: right;\">\n",
              "      <th></th>\n",
              "      <th>Место покупки</th>\n",
              "      <th>Количество</th>\n",
              "      <th>Наименование</th>\n",
              "    </tr>\n",
              "  </thead>\n",
              "  <tbody>\n",
              "    <tr>\n",
              "      <th>0</th>\n",
              "      <td>Пекарня</td>\n",
              "      <td>5 штук</td>\n",
              "      <td>круасаны</td>\n",
              "    </tr>\n",
              "    <tr>\n",
              "      <th>1</th>\n",
              "      <td>Пятерочка</td>\n",
              "      <td>1 бутылка</td>\n",
              "      <td>вода без газа</td>\n",
              "    </tr>\n",
              "    <tr>\n",
              "      <th>2</th>\n",
              "      <td>Пятерочка</td>\n",
              "      <td>7</td>\n",
              "      <td>кефир</td>\n",
              "    </tr>\n",
              "  </tbody>\n",
              "</table>\n",
              "</div>\n",
              "      <button class=\"colab-df-convert\" onclick=\"convertToInteractive('df-effaccc5-eaa3-465e-acc8-f30dc3b9d8b6')\"\n",
              "              title=\"Convert this dataframe to an interactive table.\"\n",
              "              style=\"display:none;\">\n",
              "        \n",
              "  <svg xmlns=\"http://www.w3.org/2000/svg\" height=\"24px\"viewBox=\"0 0 24 24\"\n",
              "       width=\"24px\">\n",
              "    <path d=\"M0 0h24v24H0V0z\" fill=\"none\"/>\n",
              "    <path d=\"M18.56 5.44l.94 2.06.94-2.06 2.06-.94-2.06-.94-.94-2.06-.94 2.06-2.06.94zm-11 1L8.5 8.5l.94-2.06 2.06-.94-2.06-.94L8.5 2.5l-.94 2.06-2.06.94zm10 10l.94 2.06.94-2.06 2.06-.94-2.06-.94-.94-2.06-.94 2.06-2.06.94z\"/><path d=\"M17.41 7.96l-1.37-1.37c-.4-.4-.92-.59-1.43-.59-.52 0-1.04.2-1.43.59L10.3 9.45l-7.72 7.72c-.78.78-.78 2.05 0 2.83L4 21.41c.39.39.9.59 1.41.59.51 0 1.02-.2 1.41-.59l7.78-7.78 2.81-2.81c.8-.78.8-2.07 0-2.86zM5.41 20L4 18.59l7.72-7.72 1.47 1.35L5.41 20z\"/>\n",
              "  </svg>\n",
              "      </button>\n",
              "      \n",
              "  <style>\n",
              "    .colab-df-container {\n",
              "      display:flex;\n",
              "      flex-wrap:wrap;\n",
              "      gap: 12px;\n",
              "    }\n",
              "\n",
              "    .colab-df-convert {\n",
              "      background-color: #E8F0FE;\n",
              "      border: none;\n",
              "      border-radius: 50%;\n",
              "      cursor: pointer;\n",
              "      display: none;\n",
              "      fill: #1967D2;\n",
              "      height: 32px;\n",
              "      padding: 0 0 0 0;\n",
              "      width: 32px;\n",
              "    }\n",
              "\n",
              "    .colab-df-convert:hover {\n",
              "      background-color: #E2EBFA;\n",
              "      box-shadow: 0px 1px 2px rgba(60, 64, 67, 0.3), 0px 1px 3px 1px rgba(60, 64, 67, 0.15);\n",
              "      fill: #174EA6;\n",
              "    }\n",
              "\n",
              "    [theme=dark] .colab-df-convert {\n",
              "      background-color: #3B4455;\n",
              "      fill: #D2E3FC;\n",
              "    }\n",
              "\n",
              "    [theme=dark] .colab-df-convert:hover {\n",
              "      background-color: #434B5C;\n",
              "      box-shadow: 0px 1px 3px 1px rgba(0, 0, 0, 0.15);\n",
              "      filter: drop-shadow(0px 1px 2px rgba(0, 0, 0, 0.3));\n",
              "      fill: #FFFFFF;\n",
              "    }\n",
              "  </style>\n",
              "\n",
              "      <script>\n",
              "        const buttonEl =\n",
              "          document.querySelector('#df-effaccc5-eaa3-465e-acc8-f30dc3b9d8b6 button.colab-df-convert');\n",
              "        buttonEl.style.display =\n",
              "          google.colab.kernel.accessAllowed ? 'block' : 'none';\n",
              "\n",
              "        async function convertToInteractive(key) {\n",
              "          const element = document.querySelector('#df-effaccc5-eaa3-465e-acc8-f30dc3b9d8b6');\n",
              "          const dataTable =\n",
              "            await google.colab.kernel.invokeFunction('convertToInteractive',\n",
              "                                                     [key], {});\n",
              "          if (!dataTable) return;\n",
              "\n",
              "          const docLinkHtml = 'Like what you see? Visit the ' +\n",
              "            '<a target=\"_blank\" href=https://colab.research.google.com/notebooks/data_table.ipynb>data table notebook</a>'\n",
              "            + ' to learn more about interactive tables.';\n",
              "          element.innerHTML = '';\n",
              "          dataTable['output_type'] = 'display_data';\n",
              "          await google.colab.output.renderOutput(dataTable, element);\n",
              "          const docLink = document.createElement('div');\n",
              "          docLink.innerHTML = docLinkHtml;\n",
              "          element.appendChild(docLink);\n",
              "        }\n",
              "      </script>\n",
              "    </div>\n",
              "  </div>\n",
              "  "
            ]
          },
          "metadata": {},
          "execution_count": 34
        }
      ]
    },
    {
      "cell_type": "markdown",
      "source": [
        "Данный запрос не вызывает нашу функцию а просто генерирует ответ"
      ],
      "metadata": {
        "id": "DIm7yLzBhEt-"
      }
    },
    {
      "cell_type": "code",
      "source": [
        "#Запуск модели с данными не относящимися к покупкам (в промежуточном выводе отображается только ответ модели)\n",
        "\n",
        "print(run_conversation('Напиши пару строк про искуственный интеллект'))"
      ],
      "metadata": {
        "colab": {
          "base_uri": "https://localhost:8080/"
        },
        "id": "3YvS_IUucUBo",
        "outputId": "9c08dc8f-fbac-4193-f732-2ab1dd371662"
      },
      "execution_count": null,
      "outputs": [
        {
          "output_type": "stream",
          "name": "stdout",
          "text": [
            "Искусственный интеллект (ИИ) – это область компьютерной науки, которая занимается созданием и развитием программ и систем, способных выполнять задачи, требующие обычно человеческого интеллекта. ИИ включает в себя различные методы и подходы, такие как машинное обучение, глубокое обучение, обработка естественного языка и робототехника. Успехи в области искусственного интеллекта привели к разработке таких систем, как голосовые помощники, автономные автомобили, системы медицинской диагностики и многое другое. Искусственный интеллект имеет огромный потенциал для изменения нашей жизни и решения сложных проблем в различных областях.\n"
          ]
        }
      ]
    },
    {
      "cell_type": "code",
      "source": [
        "# Просмотр таблицы на отсутствие новой записи\n",
        "\n",
        "df"
      ],
      "metadata": {
        "colab": {
          "base_uri": "https://localhost:8080/",
          "height": 143
        },
        "id": "YqBDPYh2fade",
        "outputId": "96d8964c-5dcb-478a-c7f8-3593932f395b"
      },
      "execution_count": null,
      "outputs": [
        {
          "output_type": "execute_result",
          "data": {
            "text/plain": [
              "  Место покупки Количество   Наименование\n",
              "0       Пекарня     5 штук       круасаны\n",
              "1     Пятерочка  1 бутылка  вода без газа\n",
              "2     Пятерочка          7          кефир"
            ],
            "text/html": [
              "\n",
              "  <div id=\"df-c0adfaa3-a38f-4590-85d2-c9c165d032e1\">\n",
              "    <div class=\"colab-df-container\">\n",
              "      <div>\n",
              "<style scoped>\n",
              "    .dataframe tbody tr th:only-of-type {\n",
              "        vertical-align: middle;\n",
              "    }\n",
              "\n",
              "    .dataframe tbody tr th {\n",
              "        vertical-align: top;\n",
              "    }\n",
              "\n",
              "    .dataframe thead th {\n",
              "        text-align: right;\n",
              "    }\n",
              "</style>\n",
              "<table border=\"1\" class=\"dataframe\">\n",
              "  <thead>\n",
              "    <tr style=\"text-align: right;\">\n",
              "      <th></th>\n",
              "      <th>Место покупки</th>\n",
              "      <th>Количество</th>\n",
              "      <th>Наименование</th>\n",
              "    </tr>\n",
              "  </thead>\n",
              "  <tbody>\n",
              "    <tr>\n",
              "      <th>0</th>\n",
              "      <td>Пекарня</td>\n",
              "      <td>5 штук</td>\n",
              "      <td>круасаны</td>\n",
              "    </tr>\n",
              "    <tr>\n",
              "      <th>1</th>\n",
              "      <td>Пятерочка</td>\n",
              "      <td>1 бутылка</td>\n",
              "      <td>вода без газа</td>\n",
              "    </tr>\n",
              "    <tr>\n",
              "      <th>2</th>\n",
              "      <td>Пятерочка</td>\n",
              "      <td>7</td>\n",
              "      <td>кефир</td>\n",
              "    </tr>\n",
              "  </tbody>\n",
              "</table>\n",
              "</div>\n",
              "      <button class=\"colab-df-convert\" onclick=\"convertToInteractive('df-c0adfaa3-a38f-4590-85d2-c9c165d032e1')\"\n",
              "              title=\"Convert this dataframe to an interactive table.\"\n",
              "              style=\"display:none;\">\n",
              "        \n",
              "  <svg xmlns=\"http://www.w3.org/2000/svg\" height=\"24px\"viewBox=\"0 0 24 24\"\n",
              "       width=\"24px\">\n",
              "    <path d=\"M0 0h24v24H0V0z\" fill=\"none\"/>\n",
              "    <path d=\"M18.56 5.44l.94 2.06.94-2.06 2.06-.94-2.06-.94-.94-2.06-.94 2.06-2.06.94zm-11 1L8.5 8.5l.94-2.06 2.06-.94-2.06-.94L8.5 2.5l-.94 2.06-2.06.94zm10 10l.94 2.06.94-2.06 2.06-.94-2.06-.94-.94-2.06-.94 2.06-2.06.94z\"/><path d=\"M17.41 7.96l-1.37-1.37c-.4-.4-.92-.59-1.43-.59-.52 0-1.04.2-1.43.59L10.3 9.45l-7.72 7.72c-.78.78-.78 2.05 0 2.83L4 21.41c.39.39.9.59 1.41.59.51 0 1.02-.2 1.41-.59l7.78-7.78 2.81-2.81c.8-.78.8-2.07 0-2.86zM5.41 20L4 18.59l7.72-7.72 1.47 1.35L5.41 20z\"/>\n",
              "  </svg>\n",
              "      </button>\n",
              "      \n",
              "  <style>\n",
              "    .colab-df-container {\n",
              "      display:flex;\n",
              "      flex-wrap:wrap;\n",
              "      gap: 12px;\n",
              "    }\n",
              "\n",
              "    .colab-df-convert {\n",
              "      background-color: #E8F0FE;\n",
              "      border: none;\n",
              "      border-radius: 50%;\n",
              "      cursor: pointer;\n",
              "      display: none;\n",
              "      fill: #1967D2;\n",
              "      height: 32px;\n",
              "      padding: 0 0 0 0;\n",
              "      width: 32px;\n",
              "    }\n",
              "\n",
              "    .colab-df-convert:hover {\n",
              "      background-color: #E2EBFA;\n",
              "      box-shadow: 0px 1px 2px rgba(60, 64, 67, 0.3), 0px 1px 3px 1px rgba(60, 64, 67, 0.15);\n",
              "      fill: #174EA6;\n",
              "    }\n",
              "\n",
              "    [theme=dark] .colab-df-convert {\n",
              "      background-color: #3B4455;\n",
              "      fill: #D2E3FC;\n",
              "    }\n",
              "\n",
              "    [theme=dark] .colab-df-convert:hover {\n",
              "      background-color: #434B5C;\n",
              "      box-shadow: 0px 1px 3px 1px rgba(0, 0, 0, 0.15);\n",
              "      filter: drop-shadow(0px 1px 2px rgba(0, 0, 0, 0.3));\n",
              "      fill: #FFFFFF;\n",
              "    }\n",
              "  </style>\n",
              "\n",
              "      <script>\n",
              "        const buttonEl =\n",
              "          document.querySelector('#df-c0adfaa3-a38f-4590-85d2-c9c165d032e1 button.colab-df-convert');\n",
              "        buttonEl.style.display =\n",
              "          google.colab.kernel.accessAllowed ? 'block' : 'none';\n",
              "\n",
              "        async function convertToInteractive(key) {\n",
              "          const element = document.querySelector('#df-c0adfaa3-a38f-4590-85d2-c9c165d032e1');\n",
              "          const dataTable =\n",
              "            await google.colab.kernel.invokeFunction('convertToInteractive',\n",
              "                                                     [key], {});\n",
              "          if (!dataTable) return;\n",
              "\n",
              "          const docLinkHtml = 'Like what you see? Visit the ' +\n",
              "            '<a target=\"_blank\" href=https://colab.research.google.com/notebooks/data_table.ipynb>data table notebook</a>'\n",
              "            + ' to learn more about interactive tables.';\n",
              "          element.innerHTML = '';\n",
              "          dataTable['output_type'] = 'display_data';\n",
              "          await google.colab.output.renderOutput(dataTable, element);\n",
              "          const docLink = document.createElement('div');\n",
              "          docLink.innerHTML = docLinkHtml;\n",
              "          element.appendChild(docLink);\n",
              "        }\n",
              "      </script>\n",
              "    </div>\n",
              "  </div>\n",
              "  "
            ]
          },
          "metadata": {},
          "execution_count": 36
        }
      ]
    },
    {
      "cell_type": "code",
      "source": [
        "#Запуск модели с вашими данными о покупках (в промежуточном выводе отображается структура найденных данных и ответ модели)\n",
        "\n",
        "print(run_conversation('Весь день пробыл в дороге, заезжал на заправку, и купил 41 литр бензина.'))"
      ],
      "metadata": {
        "colab": {
          "base_uri": "https://localhost:8080/"
        },
        "id": "KQoPMZM6fKku",
        "outputId": "169dc6e5-321b-4dfe-ddf3-0f3471603b38"
      },
      "execution_count": null,
      "outputs": [
        {
          "output_type": "stream",
          "name": "stdout",
          "text": [
            "{'Место покупки': 'Заправка', 'Количество': '41 литр', 'Наименование': 'Бензин'}\n",
            "Запись о покупке 41 литра бензина на заправке успешно добавлена.\n"
          ]
        }
      ]
    },
    {
      "cell_type": "code",
      "source": [
        "# Просмотр таблицы на наличие новой записи\n",
        "\n",
        "df"
      ],
      "metadata": {
        "colab": {
          "base_uri": "https://localhost:8080/",
          "height": 175
        },
        "id": "QhL4HDe_fdlN",
        "outputId": "90722a90-3c14-4bc8-828a-90d9def65306"
      },
      "execution_count": null,
      "outputs": [
        {
          "output_type": "execute_result",
          "data": {
            "text/plain": [
              "  Место покупки Количество   Наименование\n",
              "0       Пекарня     5 штук       круасаны\n",
              "1     Пятерочка  1 бутылка  вода без газа\n",
              "2     Пятерочка          7          кефир\n",
              "3      Заправка    41 литр         Бензин"
            ],
            "text/html": [
              "\n",
              "  <div id=\"df-cd58e63d-c74e-4cf0-91b0-e9395d56fbad\">\n",
              "    <div class=\"colab-df-container\">\n",
              "      <div>\n",
              "<style scoped>\n",
              "    .dataframe tbody tr th:only-of-type {\n",
              "        vertical-align: middle;\n",
              "    }\n",
              "\n",
              "    .dataframe tbody tr th {\n",
              "        vertical-align: top;\n",
              "    }\n",
              "\n",
              "    .dataframe thead th {\n",
              "        text-align: right;\n",
              "    }\n",
              "</style>\n",
              "<table border=\"1\" class=\"dataframe\">\n",
              "  <thead>\n",
              "    <tr style=\"text-align: right;\">\n",
              "      <th></th>\n",
              "      <th>Место покупки</th>\n",
              "      <th>Количество</th>\n",
              "      <th>Наименование</th>\n",
              "    </tr>\n",
              "  </thead>\n",
              "  <tbody>\n",
              "    <tr>\n",
              "      <th>0</th>\n",
              "      <td>Пекарня</td>\n",
              "      <td>5 штук</td>\n",
              "      <td>круасаны</td>\n",
              "    </tr>\n",
              "    <tr>\n",
              "      <th>1</th>\n",
              "      <td>Пятерочка</td>\n",
              "      <td>1 бутылка</td>\n",
              "      <td>вода без газа</td>\n",
              "    </tr>\n",
              "    <tr>\n",
              "      <th>2</th>\n",
              "      <td>Пятерочка</td>\n",
              "      <td>7</td>\n",
              "      <td>кефир</td>\n",
              "    </tr>\n",
              "    <tr>\n",
              "      <th>3</th>\n",
              "      <td>Заправка</td>\n",
              "      <td>41 литр</td>\n",
              "      <td>Бензин</td>\n",
              "    </tr>\n",
              "  </tbody>\n",
              "</table>\n",
              "</div>\n",
              "      <button class=\"colab-df-convert\" onclick=\"convertToInteractive('df-cd58e63d-c74e-4cf0-91b0-e9395d56fbad')\"\n",
              "              title=\"Convert this dataframe to an interactive table.\"\n",
              "              style=\"display:none;\">\n",
              "        \n",
              "  <svg xmlns=\"http://www.w3.org/2000/svg\" height=\"24px\"viewBox=\"0 0 24 24\"\n",
              "       width=\"24px\">\n",
              "    <path d=\"M0 0h24v24H0V0z\" fill=\"none\"/>\n",
              "    <path d=\"M18.56 5.44l.94 2.06.94-2.06 2.06-.94-2.06-.94-.94-2.06-.94 2.06-2.06.94zm-11 1L8.5 8.5l.94-2.06 2.06-.94-2.06-.94L8.5 2.5l-.94 2.06-2.06.94zm10 10l.94 2.06.94-2.06 2.06-.94-2.06-.94-.94-2.06-.94 2.06-2.06.94z\"/><path d=\"M17.41 7.96l-1.37-1.37c-.4-.4-.92-.59-1.43-.59-.52 0-1.04.2-1.43.59L10.3 9.45l-7.72 7.72c-.78.78-.78 2.05 0 2.83L4 21.41c.39.39.9.59 1.41.59.51 0 1.02-.2 1.41-.59l7.78-7.78 2.81-2.81c.8-.78.8-2.07 0-2.86zM5.41 20L4 18.59l7.72-7.72 1.47 1.35L5.41 20z\"/>\n",
              "  </svg>\n",
              "      </button>\n",
              "      \n",
              "  <style>\n",
              "    .colab-df-container {\n",
              "      display:flex;\n",
              "      flex-wrap:wrap;\n",
              "      gap: 12px;\n",
              "    }\n",
              "\n",
              "    .colab-df-convert {\n",
              "      background-color: #E8F0FE;\n",
              "      border: none;\n",
              "      border-radius: 50%;\n",
              "      cursor: pointer;\n",
              "      display: none;\n",
              "      fill: #1967D2;\n",
              "      height: 32px;\n",
              "      padding: 0 0 0 0;\n",
              "      width: 32px;\n",
              "    }\n",
              "\n",
              "    .colab-df-convert:hover {\n",
              "      background-color: #E2EBFA;\n",
              "      box-shadow: 0px 1px 2px rgba(60, 64, 67, 0.3), 0px 1px 3px 1px rgba(60, 64, 67, 0.15);\n",
              "      fill: #174EA6;\n",
              "    }\n",
              "\n",
              "    [theme=dark] .colab-df-convert {\n",
              "      background-color: #3B4455;\n",
              "      fill: #D2E3FC;\n",
              "    }\n",
              "\n",
              "    [theme=dark] .colab-df-convert:hover {\n",
              "      background-color: #434B5C;\n",
              "      box-shadow: 0px 1px 3px 1px rgba(0, 0, 0, 0.15);\n",
              "      filter: drop-shadow(0px 1px 2px rgba(0, 0, 0, 0.3));\n",
              "      fill: #FFFFFF;\n",
              "    }\n",
              "  </style>\n",
              "\n",
              "      <script>\n",
              "        const buttonEl =\n",
              "          document.querySelector('#df-cd58e63d-c74e-4cf0-91b0-e9395d56fbad button.colab-df-convert');\n",
              "        buttonEl.style.display =\n",
              "          google.colab.kernel.accessAllowed ? 'block' : 'none';\n",
              "\n",
              "        async function convertToInteractive(key) {\n",
              "          const element = document.querySelector('#df-cd58e63d-c74e-4cf0-91b0-e9395d56fbad');\n",
              "          const dataTable =\n",
              "            await google.colab.kernel.invokeFunction('convertToInteractive',\n",
              "                                                     [key], {});\n",
              "          if (!dataTable) return;\n",
              "\n",
              "          const docLinkHtml = 'Like what you see? Visit the ' +\n",
              "            '<a target=\"_blank\" href=https://colab.research.google.com/notebooks/data_table.ipynb>data table notebook</a>'\n",
              "            + ' to learn more about interactive tables.';\n",
              "          element.innerHTML = '';\n",
              "          dataTable['output_type'] = 'display_data';\n",
              "          await google.colab.output.renderOutput(dataTable, element);\n",
              "          const docLink = document.createElement('div');\n",
              "          docLink.innerHTML = docLinkHtml;\n",
              "          element.appendChild(docLink);\n",
              "        }\n",
              "      </script>\n",
              "    </div>\n",
              "  </div>\n",
              "  "
            ]
          },
          "metadata": {},
          "execution_count": 38
        }
      ]
    }
  ]
}