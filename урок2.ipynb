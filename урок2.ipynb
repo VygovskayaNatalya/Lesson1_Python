{
  "nbformat": 4,
  "nbformat_minor": 0,
  "metadata": {
    "colab": {
      "provenance": [],
      "include_colab_link": true
    },
    "kernelspec": {
      "name": "python3",
      "display_name": "Python 3"
    },
    "language_info": {
      "name": "python"
    }
  },
  "cells": [
    {
      "cell_type": "markdown",
      "metadata": {
        "id": "view-in-github",
        "colab_type": "text"
      },
      "source": [
        "<a href=\"https://colab.research.google.com/github/VygovskayaNatalya/Lesson1_Python/blob/main/%D1%83%D1%80%D0%BE%D0%BA2.ipynb\" target=\"_parent\"><img src=\"https://colab.research.google.com/assets/colab-badge.svg\" alt=\"Open In Colab\"/></a>"
      ]
    },
    {
      "cell_type": "code",
      "execution_count": null,
      "metadata": {
        "colab": {
          "base_uri": "https://localhost:8080/"
        },
        "id": "m6S83Suj9EiJ",
        "outputId": "8f4b424f-7930-4f58-c8b7-41f355f1caf1"
      },
      "outputs": [
        {
          "output_type": "stream",
          "name": "stdout",
          "text": [
            "Начинаем второй урок\n"
          ]
        }
      ],
      "source": [
        "print(\"Начинаем второй урок\")"
      ]
    },
    {
      "cell_type": "code",
      "source": [
        "name = input()\n",
        "print(name)"
      ],
      "metadata": {
        "colab": {
          "base_uri": "https://localhost:8080/"
        },
        "id": "k_OyGqwd9Mer",
        "outputId": "bb6d1360-32a4-4c21-908f-e7bd358e45d9"
      },
      "execution_count": null,
      "outputs": [
        {
          "output_type": "stream",
          "name": "stdout",
          "text": [
            "Соня\n",
            "Соня\n"
          ]
        }
      ]
    },
    {
      "cell_type": "code",
      "source": [
        "print(f\"Ваше имя: {name}\")"
      ],
      "metadata": {
        "id": "u7hKYc599R1i"
      },
      "execution_count": null,
      "outputs": []
    },
    {
      "cell_type": "markdown",
      "source": [
        "Задача 0: Написать программу, которая запрашивает у пользователя его имя, возраст и место проживания, а затем выводит приветственное сообщение в формате \"Привет, имя! Тебе возраст лет и ты живешь в место проживания.\" с помощью ф строчек"
      ],
      "metadata": {
        "id": "Vz7YamWw94Cf"
      }
    },
    {
      "cell_type": "code",
      "source": [
        "name = input(\"Введи свое имя: \")\n",
        "age = input(\"Введи свой возраст: \")\n",
        "town = input(\"Введи свое место проживания: \")\n",
        "print(f\"Привет, {name}! Тебе {age} лет и ты живешь в {town}\")"
      ],
      "metadata": {
        "colab": {
          "base_uri": "https://localhost:8080/"
        },
        "id": "yy9X24Dh95pY",
        "outputId": "0daa61e0-ad2e-4eed-bcc4-c4e891f96638"
      },
      "execution_count": null,
      "outputs": [
        {
          "output_type": "stream",
          "name": "stdout",
          "text": [
            "Введи свое имя: Соня\n",
            "Введи свой возраст: 24\n",
            "Введи свое место проживания: Москва\n",
            "Привет, Соня! Тебе 24 лет и ты живешь в Москва\n"
          ]
        }
      ]
    },
    {
      "cell_type": "markdown",
      "source": [
        "Типы данных.\n",
        "\n",
        "Numeric Types — int, float, complex"
      ],
      "metadata": {
        "id": "nFKuJA0G9hj8"
      }
    },
    {
      "cell_type": "code",
      "source": [
        "a = 92\n",
        "print(a)"
      ],
      "metadata": {
        "colab": {
          "base_uri": "https://localhost:8080/"
        },
        "id": "LUuZfED6DgjK",
        "outputId": "85ff66c0-6253-48e3-bc07-e82b8afe1eed"
      },
      "execution_count": null,
      "outputs": [
        {
          "output_type": "stream",
          "name": "stdout",
          "text": [
            "92\n"
          ]
        }
      ]
    },
    {
      "cell_type": "code",
      "source": [
        "age = int(input(\"Введите ваш возраст: \"))\n",
        "print(age)"
      ],
      "metadata": {
        "colab": {
          "base_uri": "https://localhost:8080/",
          "height": 214
        },
        "id": "uhSuKK4oOSv7",
        "outputId": "4b2e9893-8e3a-4ba3-ab74-cf211d20f367"
      },
      "execution_count": null,
      "outputs": [
        {
          "name": "stdout",
          "output_type": "stream",
          "text": [
            "Введите ваш возраст: woof\n"
          ]
        },
        {
          "output_type": "error",
          "ename": "ValueError",
          "evalue": "ignored",
          "traceback": [
            "\u001b[0;31m---------------------------------------------------------------------------\u001b[0m",
            "\u001b[0;31mValueError\u001b[0m                                Traceback (most recent call last)",
            "\u001b[0;32m<ipython-input-11-04dd1984b8bc>\u001b[0m in \u001b[0;36m<cell line: 1>\u001b[0;34m()\u001b[0m\n\u001b[0;32m----> 1\u001b[0;31m \u001b[0mage\u001b[0m \u001b[0;34m=\u001b[0m \u001b[0mint\u001b[0m\u001b[0;34m(\u001b[0m\u001b[0minput\u001b[0m\u001b[0;34m(\u001b[0m\u001b[0;34m\"Введите ваш возраст: \"\u001b[0m\u001b[0;34m)\u001b[0m\u001b[0;34m)\u001b[0m\u001b[0;34m\u001b[0m\u001b[0;34m\u001b[0m\u001b[0m\n\u001b[0m\u001b[1;32m      2\u001b[0m \u001b[0mprint\u001b[0m\u001b[0;34m(\u001b[0m\u001b[0mage\u001b[0m\u001b[0;34m)\u001b[0m\u001b[0;34m\u001b[0m\u001b[0;34m\u001b[0m\u001b[0m\n",
            "\u001b[0;31mValueError\u001b[0m: invalid literal for int() with base 10: 'woof'"
          ]
        }
      ]
    },
    {
      "cell_type": "markdown",
      "source": [
        "Задача 1: Напишите программу, которая запрашивает у пользователя два целых числа, складывает их и выводит результат."
      ],
      "metadata": {
        "id": "taNcYHPMDg2f"
      }
    },
    {
      "cell_type": "code",
      "source": [
        "x=int(input(\"Введите 1 число\"))\n",
        "y =int(input(\"Введите 1 число\"))\n",
        "print(x+y)"
      ],
      "metadata": {
        "id": "jVq4oiQPFbiC",
        "outputId": "4cd834fd-2cb8-47c4-db45-f49b83f2b0e2",
        "colab": {
          "base_uri": "https://localhost:8080/"
        }
      },
      "execution_count": 2,
      "outputs": [
        {
          "output_type": "stream",
          "name": "stdout",
          "text": [
            "Введите 1 число6\n",
            "Введите 1 число10\n",
            "16\n"
          ]
        }
      ]
    },
    {
      "cell_type": "markdown",
      "source": [
        "Задача 2: Напишите программу, которая запрашивает у пользователя целое число и выводит его квадрат.\n"
      ],
      "metadata": {
        "id": "HYzGAll0Fb06"
      }
    },
    {
      "cell_type": "code",
      "source": [
        "print(5/2)\n",
        "print(5//2)  #целая часть\n",
        "print(5%2)  #остаток\n",
        "print(5**2)"
      ],
      "metadata": {
        "id": "IA3b3UByFdLj",
        "outputId": "84393435-8fb2-485a-c0ea-aaf43f8df294",
        "colab": {
          "base_uri": "https://localhost:8080/"
        }
      },
      "execution_count": 5,
      "outputs": [
        {
          "output_type": "stream",
          "name": "stdout",
          "text": [
            "2.5\n",
            "2\n",
            "1\n",
            "25\n"
          ]
        }
      ]
    },
    {
      "cell_type": "markdown",
      "source": [
        "Задача 3: Напишите программу, которая запрашивает у пользователя два целых числа и выводит их произведение.\n"
      ],
      "metadata": {
        "id": "9XHIKpZXF7by"
      }
    },
    {
      "cell_type": "code",
      "source": [
        "x=int(input(\"Введите 1 число  \"))\n",
        "y =int(input(\"Введите 1 число  \"))\n",
        "print(x*y)"
      ],
      "metadata": {
        "id": "r0F3C48MF78K",
        "outputId": "822f3443-a169-4427-952b-db11e8256b06",
        "colab": {
          "base_uri": "https://localhost:8080/"
        }
      },
      "execution_count": 7,
      "outputs": [
        {
          "output_type": "stream",
          "name": "stdout",
          "text": [
            "Введите 1 число  5\n",
            "Введите 1 число  6\n",
            "30\n"
          ]
        }
      ]
    },
    {
      "cell_type": "markdown",
      "source": [
        "Задача 4: Написать программу, которая запрашивает у пользователя два числа с плавающей запятой и выводит их сумму."
      ],
      "metadata": {
        "id": "3DHQRF6MGyLi"
      }
    },
    {
      "cell_type": "code",
      "source": [
        "a=2.6\n",
        "print(type(a))"
      ],
      "metadata": {
        "id": "-IaB0YdoG5bJ",
        "outputId": "ba11201c-fcc3-4571-e74a-22e768f76c0c",
        "colab": {
          "base_uri": "https://localhost:8080/"
        }
      },
      "execution_count": 8,
      "outputs": [
        {
          "output_type": "stream",
          "name": "stdout",
          "text": [
            "<class 'float'>\n"
          ]
        }
      ]
    },
    {
      "cell_type": "code",
      "source": [],
      "metadata": {
        "id": "xnndfCRgRl6L"
      },
      "execution_count": null,
      "outputs": []
    },
    {
      "cell_type": "markdown",
      "source": [
        "Задача 5: Написать программу, которая запрашивает у пользователя радиус окружности, а затем вычисляет и выводит длину окружности."
      ],
      "metadata": {
        "id": "tHTAvzwuG50a"
      }
    },
    {
      "cell_type": "code",
      "source": [
        "import math\n",
        "radius=float(input())\n",
        "\n",
        "circumference = 2 * math.pi * radius\n",
        "print(circumference)"
      ],
      "metadata": {
        "id": "1Zgn_UevG9H6",
        "outputId": "d9dfad66-2339-465c-e0fb-cfad11cac16d",
        "colab": {
          "base_uri": "https://localhost:8080/"
        }
      },
      "execution_count": 10,
      "outputs": [
        {
          "output_type": "stream",
          "name": "stdout",
          "text": [
            "6.6\n",
            "41.46902302738527\n"
          ]
        }
      ]
    },
    {
      "cell_type": "markdown",
      "source": [
        "Задача 6: Вводим сумму без налогов и считаем сумму с налогами"
      ],
      "metadata": {
        "id": "w82yvOaxHAo6"
      }
    },
    {
      "cell_type": "code",
      "source": [
        "s=int(input())\n",
        "n=0.09*s\n",
        "s=s-n\n",
        "print(s)"
      ],
      "metadata": {
        "id": "0q8WwUHTHLcW",
        "outputId": "31f27259-12cf-4537-d722-c70cdb1d9f0d",
        "colab": {
          "base_uri": "https://localhost:8080/"
        }
      },
      "execution_count": 14,
      "outputs": [
        {
          "output_type": "stream",
          "name": "stdout",
          "text": [
            "91.0\n"
          ]
        }
      ]
    },
    {
      "cell_type": "code",
      "source": [
        "pr=0.15\n",
        "salary = float(input())\n",
        "print(salary*(1-pr))"
      ],
      "metadata": {
        "id": "awhXzIsHUqFr"
      },
      "execution_count": null,
      "outputs": []
    },
    {
      "cell_type": "markdown",
      "source": [
        "Задача 7: Написать программу, которая запрашивает у пользователя слово и целое число n, а затем выводит это слово n раз"
      ],
      "metadata": {
        "id": "oImR4xSqHh66"
      }
    },
    {
      "cell_type": "code",
      "source": [
        "s=input(\"слово\")\n",
        "n=int(input(\"Сколько раз\"))\n",
        "print(s*n)"
      ],
      "metadata": {
        "id": "Oaq6aSTNHlOT",
        "outputId": "2dd50a36-827b-4499-a17d-29c75e33c757",
        "colab": {
          "base_uri": "https://localhost:8080/"
        }
      },
      "execution_count": 21,
      "outputs": [
        {
          "output_type": "stream",
          "name": "stdout",
          "text": [
            "фвыывывы\n",
            "Сколько раз5\n",
            "фвыывывыфвыывывыфвыывывыфвыывывыфвыывывы\n"
          ]
        }
      ]
    },
    {
      "cell_type": "markdown",
      "source": [
        "Задача 8: Написать программу, которая запрашивает у пользователя свое имя и выводит приветствие в формате \"Привет, имя!\"."
      ],
      "metadata": {
        "id": "tsxpz3caInnw"
      }
    },
    {
      "cell_type": "code",
      "source": [
        "s=input()\n",
        "print(\"Привет,  \"+ s)"
      ],
      "metadata": {
        "id": "SWBaqcTJIpwb",
        "outputId": "ce5d19eb-abf2-4bc7-b925-1eb5c84a84f9",
        "colab": {
          "base_uri": "https://localhost:8080/"
        }
      },
      "execution_count": 20,
      "outputs": [
        {
          "output_type": "stream",
          "name": "stdout",
          "text": [
            "Наташа\n",
            "Привет,  Наташа\n"
          ]
        }
      ]
    },
    {
      "cell_type": "markdown",
      "source": [
        "Задача 9: Написать программу, которая запрашивает у пользователя строку и выводит ее длину."
      ],
      "metadata": {
        "id": "UrU77HPdIqC5"
      }
    },
    {
      "cell_type": "code",
      "source": [
        "s=input()\n",
        "print(len(s))"
      ],
      "metadata": {
        "id": "iJPRnqn8IssD",
        "outputId": "67b4cd8a-d1c1-4c36-fd87-9ac5620772c2",
        "colab": {
          "base_uri": "https://localhost:8080/"
        }
      },
      "execution_count": 22,
      "outputs": [
        {
          "output_type": "stream",
          "name": "stdout",
          "text": [
            "tytytytytytytyty\n",
            "16\n"
          ]
        }
      ]
    },
    {
      "cell_type": "markdown",
      "source": [
        "Задача 10: Написать программу, которая запрашивает у пользователя две строки и объединяет их в одну строку с пробелом между ними."
      ],
      "metadata": {
        "id": "v-WQW5eHIuxB"
      }
    },
    {
      "cell_type": "code",
      "source": [
        "s1=input(\"первая строка \")\n",
        "s2 = input(\"вторая строка \")\n",
        "print(s1+\"  \"+s2)\n"
      ],
      "metadata": {
        "id": "bmn5mdhzIvz5",
        "outputId": "71b2caa3-a974-4de0-e92c-6ec23ee9e322",
        "colab": {
          "base_uri": "https://localhost:8080/"
        }
      },
      "execution_count": 24,
      "outputs": [
        {
          "output_type": "stream",
          "name": "stdout",
          "text": [
            "первая строка привет\n",
            "вторая строка Как дела?\n",
            "привет  Как дела?\n"
          ]
        }
      ]
    },
    {
      "cell_type": "code",
      "source": [
        "word=\"корабль\"\n",
        "print(word[0]+word[1]+word[2]+word[3]+word[4]+word[5]+word[6])"
      ],
      "metadata": {
        "id": "SbtscrKicPY0",
        "outputId": "be086973-1f28-4859-dfa1-1a877d7039b7",
        "colab": {
          "base_uri": "https://localhost:8080/"
        }
      },
      "execution_count": 26,
      "outputs": [
        {
          "output_type": "stream",
          "name": "stdout",
          "text": [
            "корабль\n"
          ]
        }
      ]
    },
    {
      "cell_type": "markdown",
      "source": [
        "Задача 11: Написать программу, которая запрашивает у пользователя строку и выводит ее в обратном порядке.\n"
      ],
      "metadata": {
        "id": "tX4MEwUWIwDI"
      }
    },
    {
      "cell_type": "code",
      "source": [],
      "metadata": {
        "id": "JvKUAb66Iz7R"
      },
      "execution_count": null,
      "outputs": []
    },
    {
      "cell_type": "markdown",
      "source": [
        "Задача 12: Написать программу, которая запрашивает у пользователя строку и проверяет, является ли она палиндромом (читается одинаково как слева направо, так и справа налево)."
      ],
      "metadata": {
        "id": "4vn7iDWTI0US"
      }
    },
    {
      "cell_type": "code",
      "source": [],
      "metadata": {
        "id": "ziIos-YQI2Rx"
      },
      "execution_count": null,
      "outputs": []
    },
    {
      "cell_type": "markdown",
      "source": [
        "Задача 13: Написать программу, которая запрашивает у пользователя строку и выводит первый символ"
      ],
      "metadata": {
        "id": "JdWJRgQwJm7Z"
      }
    },
    {
      "cell_type": "code",
      "source": [],
      "metadata": {
        "id": "RDp3hxvCJnqB"
      },
      "execution_count": null,
      "outputs": []
    },
    {
      "cell_type": "markdown",
      "source": [
        "Задача 14: Написать программу, которая запрашивает у пользователя строку и выводит последний символ."
      ],
      "metadata": {
        "id": "uJQGMSdVJn-4"
      }
    },
    {
      "cell_type": "code",
      "source": [],
      "metadata": {
        "id": "Mb3clGeUJr-6"
      },
      "execution_count": null,
      "outputs": []
    },
    {
      "cell_type": "markdown",
      "source": [
        "Задача 15: Написать программу, которая запрашивает у пользователя строку и выводит ее первую половину."
      ],
      "metadata": {
        "id": "JRWgcie8JsRg"
      }
    },
    {
      "cell_type": "code",
      "source": [],
      "metadata": {
        "id": "dt7VbT5xJwS4"
      },
      "execution_count": null,
      "outputs": []
    },
    {
      "cell_type": "markdown",
      "source": [
        "Задача 16: Написать программу, которая запрашивает у пользователя строку и выводит каждый второй символ."
      ],
      "metadata": {
        "id": "_H6_Oxm4JypQ"
      }
    },
    {
      "cell_type": "code",
      "source": [],
      "metadata": {
        "id": "XTXK4CUuJzgg"
      },
      "execution_count": null,
      "outputs": []
    },
    {
      "cell_type": "markdown",
      "source": [
        "Задача 17: Написать программу, которая складывает введенное слово с паролем в одну строку и выводит, каждый третий символ получившейся строки в обратном порядке"
      ],
      "metadata": {
        "id": "n9FDf5jLJ20R"
      }
    },
    {
      "cell_type": "code",
      "source": [],
      "metadata": {
        "id": "cK3IY_T0KOUT"
      },
      "execution_count": null,
      "outputs": []
    }
  ]
}